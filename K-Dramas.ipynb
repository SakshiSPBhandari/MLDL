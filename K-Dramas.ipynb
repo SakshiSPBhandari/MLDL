{
 "cells": [
  {
   "cell_type": "markdown",
   "id": "08138266",
   "metadata": {},
   "source": [
    "## Recommendation of Kdramas "
   ]
  },
  {
   "cell_type": "markdown",
   "id": "e1296440",
   "metadata": {},
   "source": [
    "### Let's start by importing libraries which are necessary for future work"
   ]
  },
  {
   "cell_type": "code",
   "execution_count": 1,
   "id": "e171cf65",
   "metadata": {},
   "outputs": [],
   "source": [
    "import pandas as pd\n",
    "import numpy as np\n",
    "import matplotlib.pyplot as plt\n",
    "import seaborn as sns"
   ]
  },
  {
   "cell_type": "markdown",
   "id": "df94fc7a",
   "metadata": {},
   "source": [
    "### Loading the csv file from kaggle"
   ]
  },
  {
   "cell_type": "code",
   "execution_count": 2,
   "id": "78423a9f",
   "metadata": {},
   "outputs": [],
   "source": [
    "df = pd.read_csv('koreanTV.csv')"
   ]
  },
  {
   "cell_type": "markdown",
   "id": "d4726895",
   "metadata": {},
   "source": [
    "### head function is used to view first 5 rows from dataset"
   ]
  },
  {
   "cell_type": "code",
   "execution_count": 3,
   "id": "b065b7f0",
   "metadata": {},
   "outputs": [
    {
     "data": {
      "text/html": [
       "<div>\n",
       "<style scoped>\n",
       "    .dataframe tbody tr th:only-of-type {\n",
       "        vertical-align: middle;\n",
       "    }\n",
       "\n",
       "    .dataframe tbody tr th {\n",
       "        vertical-align: top;\n",
       "    }\n",
       "\n",
       "    .dataframe thead th {\n",
       "        text-align: right;\n",
       "    }\n",
       "</style>\n",
       "<table border=\"1\" class=\"dataframe\">\n",
       "  <thead>\n",
       "    <tr style=\"text-align: right;\">\n",
       "      <th></th>\n",
       "      <th>Title</th>\n",
       "      <th>Year</th>\n",
       "      <th>Rating</th>\n",
       "      <th>Votes:</th>\n",
       "      <th>Time</th>\n",
       "      <th>Genre</th>\n",
       "      <th>Stars</th>\n",
       "      <th>Short Story</th>\n",
       "    </tr>\n",
       "  </thead>\n",
       "  <tbody>\n",
       "    <tr>\n",
       "      <th>0</th>\n",
       "      <td>Hellbound</td>\n",
       "      <td>(2021– )</td>\n",
       "      <td>6.7</td>\n",
       "      <td>14,032</td>\n",
       "      <td>150 min</td>\n",
       "      <td>Crime, Drama, Fantasy</td>\n",
       "      <td>Yoo Ah-in, Kim Hyun-joo, Jeong Min Park, Jin-a...</td>\n",
       "      <td>\\nPeople hear predictions on when they will di...</td>\n",
       "    </tr>\n",
       "    <tr>\n",
       "      <th>1</th>\n",
       "      <td>Squid Game</td>\n",
       "      <td>(2021– )</td>\n",
       "      <td>8.1</td>\n",
       "      <td>339,931</td>\n",
       "      <td>55 min</td>\n",
       "      <td>Action, Drama, Mystery</td>\n",
       "      <td>Lee Jung-jae, Park Hae-soo, Wi Ha-Joon, Jung H...</td>\n",
       "      <td>\\nHundreds of cash-strapped players accept a s...</td>\n",
       "    </tr>\n",
       "    <tr>\n",
       "      <th>2</th>\n",
       "      <td>My Name</td>\n",
       "      <td>(2021– )</td>\n",
       "      <td>7.9</td>\n",
       "      <td>12,877</td>\n",
       "      <td>50 min</td>\n",
       "      <td>Action, Crime, Drama</td>\n",
       "      <td>Hee-soon Park, Ahn Bo-Hyun, Han So-hee, Kim Sa...</td>\n",
       "      <td>\\nThe story about a woman who joins an organiz...</td>\n",
       "    </tr>\n",
       "    <tr>\n",
       "      <th>3</th>\n",
       "      <td>Miraculous: Tales of Ladybug &amp; Cat Noir</td>\n",
       "      <td>(2015– )</td>\n",
       "      <td>7.7</td>\n",
       "      <td>9,439</td>\n",
       "      <td>20 min</td>\n",
       "      <td>Animation, Action, Adventure</td>\n",
       "      <td>Cristina Valenzuela, Bryce Papenbrook, Keith S...</td>\n",
       "      <td>\\nMarinette and Adrien, two normal teens, tran...</td>\n",
       "    </tr>\n",
       "    <tr>\n",
       "      <th>4</th>\n",
       "      <td>Happiness</td>\n",
       "      <td>(2021– )</td>\n",
       "      <td>8.6</td>\n",
       "      <td>921</td>\n",
       "      <td>-</td>\n",
       "      <td>Action, Fantasy, Thriller</td>\n",
       "      <td>Han Hyo-joo, Park Hyung-Sik, Woo-jin Jo, Lee J...</td>\n",
       "      <td>\\nAn apocalyptic thriller that takes place in ...</td>\n",
       "    </tr>\n",
       "  </tbody>\n",
       "</table>\n",
       "</div>"
      ],
      "text/plain": [
       "                                     Title      Year Rating   Votes:     Time  \\\n",
       "0                                Hellbound  (2021– )    6.7   14,032  150 min   \n",
       "1                               Squid Game  (2021– )    8.1  339,931   55 min   \n",
       "2                                  My Name  (2021– )    7.9   12,877   50 min   \n",
       "3  Miraculous: Tales of Ladybug & Cat Noir  (2015– )    7.7    9,439   20 min   \n",
       "4                                Happiness  (2021– )    8.6      921        -   \n",
       "\n",
       "                          Genre  \\\n",
       "0         Crime, Drama, Fantasy   \n",
       "1        Action, Drama, Mystery   \n",
       "2          Action, Crime, Drama   \n",
       "3  Animation, Action, Adventure   \n",
       "4     Action, Fantasy, Thriller   \n",
       "\n",
       "                                               Stars  \\\n",
       "0  Yoo Ah-in, Kim Hyun-joo, Jeong Min Park, Jin-a...   \n",
       "1  Lee Jung-jae, Park Hae-soo, Wi Ha-Joon, Jung H...   \n",
       "2  Hee-soon Park, Ahn Bo-Hyun, Han So-hee, Kim Sa...   \n",
       "3  Cristina Valenzuela, Bryce Papenbrook, Keith S...   \n",
       "4  Han Hyo-joo, Park Hyung-Sik, Woo-jin Jo, Lee J...   \n",
       "\n",
       "                                         Short Story  \n",
       "0  \\nPeople hear predictions on when they will di...  \n",
       "1  \\nHundreds of cash-strapped players accept a s...  \n",
       "2  \\nThe story about a woman who joins an organiz...  \n",
       "3  \\nMarinette and Adrien, two normal teens, tran...  \n",
       "4  \\nAn apocalyptic thriller that takes place in ...  "
      ]
     },
     "execution_count": 3,
     "metadata": {},
     "output_type": "execute_result"
    }
   ],
   "source": [
    "df.head()"
   ]
  },
  {
   "cell_type": "markdown",
   "id": "59646289",
   "metadata": {},
   "source": [
    "### columns helps us to know the present columns present in the dataset"
   ]
  },
  {
   "cell_type": "code",
   "execution_count": 4,
   "id": "a424fd2d",
   "metadata": {},
   "outputs": [
    {
     "data": {
      "text/plain": [
       "Index(['Title', 'Year', 'Rating', 'Votes:', 'Time', 'Genre', 'Stars',\n",
       "       'Short Story'],\n",
       "      dtype='object')"
      ]
     },
     "execution_count": 4,
     "metadata": {},
     "output_type": "execute_result"
    }
   ],
   "source": [
    "df.columns"
   ]
  },
  {
   "cell_type": "markdown",
   "id": "e34d687c",
   "metadata": {},
   "source": [
    "### duplicated function with sum is used to get the information regarding any duplicate value present in the data"
   ]
  },
  {
   "cell_type": "code",
   "execution_count": 5,
   "id": "22462174",
   "metadata": {},
   "outputs": [
    {
     "data": {
      "text/plain": [
       "0"
      ]
     },
     "execution_count": 5,
     "metadata": {},
     "output_type": "execute_result"
    }
   ],
   "source": [
    "df.duplicated().sum()"
   ]
  },
  {
   "cell_type": "markdown",
   "id": "1ac7afb9",
   "metadata": {},
   "source": [
    "### Now it's time to check whether our dataset hold any missing values or not"
   ]
  },
  {
   "cell_type": "code",
   "execution_count": 6,
   "id": "791fc750",
   "metadata": {},
   "outputs": [
    {
     "data": {
      "text/plain": [
       "Title           0\n",
       "Year           11\n",
       "Rating          0\n",
       "Votes:          0\n",
       "Time            0\n",
       "Genre           0\n",
       "Stars           0\n",
       "Short Story     0\n",
       "dtype: int64"
      ]
     },
     "execution_count": 6,
     "metadata": {},
     "output_type": "execute_result"
    }
   ],
   "source": [
    "df.isnull().sum()"
   ]
  },
  {
   "cell_type": "markdown",
   "id": "884daccd",
   "metadata": {},
   "source": [
    "### For further analysis and keep our work more simple let's create a function which will lowercase the values of the rows"
   ]
  },
  {
   "cell_type": "code",
   "execution_count": 7,
   "id": "e6d17b7d",
   "metadata": {},
   "outputs": [],
   "source": [
    "#Lowercasing all the string values\n",
    "def lower_string(text):\n",
    "    return text.lower()"
   ]
  },
  {
   "cell_type": "markdown",
   "id": "43e2ca09",
   "metadata": {},
   "source": [
    "### Below is the example of the function let's now apply it on our data columns"
   ]
  },
  {
   "cell_type": "code",
   "execution_count": 8,
   "id": "8d0e8047",
   "metadata": {},
   "outputs": [
    {
     "data": {
      "text/plain": [
       "'hello everyone data science team is here'"
      ]
     },
     "execution_count": 8,
     "metadata": {},
     "output_type": "execute_result"
    }
   ],
   "source": [
    "lower_string('HELLO EVERYONE DATA SCIENCE TEAM IS HERE')"
   ]
  },
  {
   "cell_type": "code",
   "execution_count": 9,
   "id": "90f578fa",
   "metadata": {},
   "outputs": [],
   "source": [
    "# TITLE, GENRE, STARS, SHORT STORY\n",
    "df['Title'] = df['Title'].apply(lower_string)\n",
    "df['Genre'] = df['Genre'].apply(lower_string)\n",
    "df['Stars'] = df['Stars'].apply(lower_string)\n",
    "df['Short Story'] = df['Short Story'].apply(lower_string)"
   ]
  },
  {
   "cell_type": "markdown",
   "id": "6155ccb4",
   "metadata": {},
   "source": [
    "### All the values present in the dataset is now converted to lowercase"
   ]
  },
  {
   "cell_type": "code",
   "execution_count": 10,
   "id": "6fce3a0a",
   "metadata": {},
   "outputs": [
    {
     "data": {
      "text/html": [
       "<div>\n",
       "<style scoped>\n",
       "    .dataframe tbody tr th:only-of-type {\n",
       "        vertical-align: middle;\n",
       "    }\n",
       "\n",
       "    .dataframe tbody tr th {\n",
       "        vertical-align: top;\n",
       "    }\n",
       "\n",
       "    .dataframe thead th {\n",
       "        text-align: right;\n",
       "    }\n",
       "</style>\n",
       "<table border=\"1\" class=\"dataframe\">\n",
       "  <thead>\n",
       "    <tr style=\"text-align: right;\">\n",
       "      <th></th>\n",
       "      <th>Title</th>\n",
       "      <th>Year</th>\n",
       "      <th>Rating</th>\n",
       "      <th>Votes:</th>\n",
       "      <th>Time</th>\n",
       "      <th>Genre</th>\n",
       "      <th>Stars</th>\n",
       "      <th>Short Story</th>\n",
       "    </tr>\n",
       "  </thead>\n",
       "  <tbody>\n",
       "    <tr>\n",
       "      <th>0</th>\n",
       "      <td>hellbound</td>\n",
       "      <td>(2021– )</td>\n",
       "      <td>6.7</td>\n",
       "      <td>14,032</td>\n",
       "      <td>150 min</td>\n",
       "      <td>crime, drama, fantasy</td>\n",
       "      <td>yoo ah-in, kim hyun-joo, jeong min park, jin-a...</td>\n",
       "      <td>\\npeople hear predictions on when they will di...</td>\n",
       "    </tr>\n",
       "    <tr>\n",
       "      <th>1</th>\n",
       "      <td>squid game</td>\n",
       "      <td>(2021– )</td>\n",
       "      <td>8.1</td>\n",
       "      <td>339,931</td>\n",
       "      <td>55 min</td>\n",
       "      <td>action, drama, mystery</td>\n",
       "      <td>lee jung-jae, park hae-soo, wi ha-joon, jung h...</td>\n",
       "      <td>\\nhundreds of cash-strapped players accept a s...</td>\n",
       "    </tr>\n",
       "    <tr>\n",
       "      <th>2</th>\n",
       "      <td>my name</td>\n",
       "      <td>(2021– )</td>\n",
       "      <td>7.9</td>\n",
       "      <td>12,877</td>\n",
       "      <td>50 min</td>\n",
       "      <td>action, crime, drama</td>\n",
       "      <td>hee-soon park, ahn bo-hyun, han so-hee, kim sa...</td>\n",
       "      <td>\\nthe story about a woman who joins an organiz...</td>\n",
       "    </tr>\n",
       "    <tr>\n",
       "      <th>3</th>\n",
       "      <td>miraculous: tales of ladybug &amp; cat noir</td>\n",
       "      <td>(2015– )</td>\n",
       "      <td>7.7</td>\n",
       "      <td>9,439</td>\n",
       "      <td>20 min</td>\n",
       "      <td>animation, action, adventure</td>\n",
       "      <td>cristina valenzuela, bryce papenbrook, keith s...</td>\n",
       "      <td>\\nmarinette and adrien, two normal teens, tran...</td>\n",
       "    </tr>\n",
       "    <tr>\n",
       "      <th>4</th>\n",
       "      <td>happiness</td>\n",
       "      <td>(2021– )</td>\n",
       "      <td>8.6</td>\n",
       "      <td>921</td>\n",
       "      <td>-</td>\n",
       "      <td>action, fantasy, thriller</td>\n",
       "      <td>han hyo-joo, park hyung-sik, woo-jin jo, lee j...</td>\n",
       "      <td>\\nan apocalyptic thriller that takes place in ...</td>\n",
       "    </tr>\n",
       "  </tbody>\n",
       "</table>\n",
       "</div>"
      ],
      "text/plain": [
       "                                     Title      Year Rating   Votes:     Time  \\\n",
       "0                                hellbound  (2021– )    6.7   14,032  150 min   \n",
       "1                               squid game  (2021– )    8.1  339,931   55 min   \n",
       "2                                  my name  (2021– )    7.9   12,877   50 min   \n",
       "3  miraculous: tales of ladybug & cat noir  (2015– )    7.7    9,439   20 min   \n",
       "4                                happiness  (2021– )    8.6      921        -   \n",
       "\n",
       "                          Genre  \\\n",
       "0         crime, drama, fantasy   \n",
       "1        action, drama, mystery   \n",
       "2          action, crime, drama   \n",
       "3  animation, action, adventure   \n",
       "4     action, fantasy, thriller   \n",
       "\n",
       "                                               Stars  \\\n",
       "0  yoo ah-in, kim hyun-joo, jeong min park, jin-a...   \n",
       "1  lee jung-jae, park hae-soo, wi ha-joon, jung h...   \n",
       "2  hee-soon park, ahn bo-hyun, han so-hee, kim sa...   \n",
       "3  cristina valenzuela, bryce papenbrook, keith s...   \n",
       "4  han hyo-joo, park hyung-sik, woo-jin jo, lee j...   \n",
       "\n",
       "                                         Short Story  \n",
       "0  \\npeople hear predictions on when they will di...  \n",
       "1  \\nhundreds of cash-strapped players accept a s...  \n",
       "2  \\nthe story about a woman who joins an organiz...  \n",
       "3  \\nmarinette and adrien, two normal teens, tran...  \n",
       "4  \\nan apocalyptic thriller that takes place in ...  "
      ]
     },
     "execution_count": 10,
     "metadata": {},
     "output_type": "execute_result"
    }
   ],
   "source": [
    "df.head()"
   ]
  },
  {
   "cell_type": "markdown",
   "id": "8aeeb29c",
   "metadata": {},
   "source": [
    "### Defining a function to remove the \\n present in the short story column"
   ]
  },
  {
   "cell_type": "code",
   "execution_count": 12,
   "id": "40a906b7",
   "metadata": {},
   "outputs": [],
   "source": [
    "def token_text(text):\n",
    "    return \" \".join(text.split())"
   ]
  },
  {
   "cell_type": "code",
   "execution_count": 13,
   "id": "d09e2840",
   "metadata": {},
   "outputs": [
    {
     "data": {
      "text/plain": [
       "\"' people hear predictions on when they will die. when that time comes, a death angel appears in front of them and kills them.'\""
      ]
     },
     "execution_count": 13,
     "metadata": {},
     "output_type": "execute_result"
    }
   ],
   "source": [
    "token_text(\"'\\npeople hear predictions on when they will die. when that time comes, a death angel appears in front of them and kills them.'\")"
   ]
  },
  {
   "cell_type": "code",
   "execution_count": 14,
   "id": "3ca4f36b",
   "metadata": {},
   "outputs": [],
   "source": [
    "df['Short Story'] = df['Short Story'].apply(token_text)"
   ]
  },
  {
   "cell_type": "code",
   "execution_count": 15,
   "id": "7fa106ef",
   "metadata": {},
   "outputs": [
    {
     "data": {
      "text/html": [
       "<div>\n",
       "<style scoped>\n",
       "    .dataframe tbody tr th:only-of-type {\n",
       "        vertical-align: middle;\n",
       "    }\n",
       "\n",
       "    .dataframe tbody tr th {\n",
       "        vertical-align: top;\n",
       "    }\n",
       "\n",
       "    .dataframe thead th {\n",
       "        text-align: right;\n",
       "    }\n",
       "</style>\n",
       "<table border=\"1\" class=\"dataframe\">\n",
       "  <thead>\n",
       "    <tr style=\"text-align: right;\">\n",
       "      <th></th>\n",
       "      <th>Title</th>\n",
       "      <th>Year</th>\n",
       "      <th>Rating</th>\n",
       "      <th>Votes:</th>\n",
       "      <th>Time</th>\n",
       "      <th>Genre</th>\n",
       "      <th>Stars</th>\n",
       "      <th>Short Story</th>\n",
       "    </tr>\n",
       "  </thead>\n",
       "  <tbody>\n",
       "    <tr>\n",
       "      <th>0</th>\n",
       "      <td>hellbound</td>\n",
       "      <td>(2021– )</td>\n",
       "      <td>6.7</td>\n",
       "      <td>14,032</td>\n",
       "      <td>150 min</td>\n",
       "      <td>crime, drama, fantasy</td>\n",
       "      <td>yoo ah-in, kim hyun-joo, jeong min park, jin-a...</td>\n",
       "      <td>people hear predictions on when they will die....</td>\n",
       "    </tr>\n",
       "    <tr>\n",
       "      <th>1</th>\n",
       "      <td>squid game</td>\n",
       "      <td>(2021– )</td>\n",
       "      <td>8.1</td>\n",
       "      <td>339,931</td>\n",
       "      <td>55 min</td>\n",
       "      <td>action, drama, mystery</td>\n",
       "      <td>lee jung-jae, park hae-soo, wi ha-joon, jung h...</td>\n",
       "      <td>hundreds of cash-strapped players accept a str...</td>\n",
       "    </tr>\n",
       "    <tr>\n",
       "      <th>2</th>\n",
       "      <td>my name</td>\n",
       "      <td>(2021– )</td>\n",
       "      <td>7.9</td>\n",
       "      <td>12,877</td>\n",
       "      <td>50 min</td>\n",
       "      <td>action, crime, drama</td>\n",
       "      <td>hee-soon park, ahn bo-hyun, han so-hee, kim sa...</td>\n",
       "      <td>the story about a woman who joins an organized...</td>\n",
       "    </tr>\n",
       "    <tr>\n",
       "      <th>3</th>\n",
       "      <td>miraculous: tales of ladybug &amp; cat noir</td>\n",
       "      <td>(2015– )</td>\n",
       "      <td>7.7</td>\n",
       "      <td>9,439</td>\n",
       "      <td>20 min</td>\n",
       "      <td>animation, action, adventure</td>\n",
       "      <td>cristina valenzuela, bryce papenbrook, keith s...</td>\n",
       "      <td>marinette and adrien, two normal teens, transf...</td>\n",
       "    </tr>\n",
       "    <tr>\n",
       "      <th>4</th>\n",
       "      <td>happiness</td>\n",
       "      <td>(2021– )</td>\n",
       "      <td>8.6</td>\n",
       "      <td>921</td>\n",
       "      <td>-</td>\n",
       "      <td>action, fantasy, thriller</td>\n",
       "      <td>han hyo-joo, park hyung-sik, woo-jin jo, lee j...</td>\n",
       "      <td>an apocalyptic thriller that takes place in a ...</td>\n",
       "    </tr>\n",
       "  </tbody>\n",
       "</table>\n",
       "</div>"
      ],
      "text/plain": [
       "                                     Title      Year Rating   Votes:     Time  \\\n",
       "0                                hellbound  (2021– )    6.7   14,032  150 min   \n",
       "1                               squid game  (2021– )    8.1  339,931   55 min   \n",
       "2                                  my name  (2021– )    7.9   12,877   50 min   \n",
       "3  miraculous: tales of ladybug & cat noir  (2015– )    7.7    9,439   20 min   \n",
       "4                                happiness  (2021– )    8.6      921        -   \n",
       "\n",
       "                          Genre  \\\n",
       "0         crime, drama, fantasy   \n",
       "1        action, drama, mystery   \n",
       "2          action, crime, drama   \n",
       "3  animation, action, adventure   \n",
       "4     action, fantasy, thriller   \n",
       "\n",
       "                                               Stars  \\\n",
       "0  yoo ah-in, kim hyun-joo, jeong min park, jin-a...   \n",
       "1  lee jung-jae, park hae-soo, wi ha-joon, jung h...   \n",
       "2  hee-soon park, ahn bo-hyun, han so-hee, kim sa...   \n",
       "3  cristina valenzuela, bryce papenbrook, keith s...   \n",
       "4  han hyo-joo, park hyung-sik, woo-jin jo, lee j...   \n",
       "\n",
       "                                         Short Story  \n",
       "0  people hear predictions on when they will die....  \n",
       "1  hundreds of cash-strapped players accept a str...  \n",
       "2  the story about a woman who joins an organized...  \n",
       "3  marinette and adrien, two normal teens, transf...  \n",
       "4  an apocalyptic thriller that takes place in a ...  "
      ]
     },
     "execution_count": 15,
     "metadata": {},
     "output_type": "execute_result"
    }
   ],
   "source": [
    "df.head()"
   ]
  },
  {
   "cell_type": "markdown",
   "id": "5ac5bbcd",
   "metadata": {},
   "source": [
    "### info function gives us the overview of the dataset by providing information regarding the non-null values and data type of the features in the dataset"
   ]
  },
  {
   "cell_type": "code",
   "execution_count": 16,
   "id": "8fb4e66b",
   "metadata": {},
   "outputs": [
    {
     "name": "stdout",
     "output_type": "stream",
     "text": [
      "<class 'pandas.core.frame.DataFrame'>\n",
      "RangeIndex: 1989 entries, 0 to 1988\n",
      "Data columns (total 8 columns):\n",
      " #   Column       Non-Null Count  Dtype \n",
      "---  ------       --------------  ----- \n",
      " 0   Title        1989 non-null   object\n",
      " 1   Year         1978 non-null   object\n",
      " 2   Rating       1989 non-null   object\n",
      " 3   Votes:       1989 non-null   object\n",
      " 4   Time         1989 non-null   object\n",
      " 5   Genre        1989 non-null   object\n",
      " 6   Stars        1989 non-null   object\n",
      " 7   Short Story  1989 non-null   object\n",
      "dtypes: object(8)\n",
      "memory usage: 124.4+ KB\n"
     ]
    }
   ],
   "source": [
    "df.info()"
   ]
  },
  {
   "cell_type": "code",
   "execution_count": 17,
   "id": "bf601b6a",
   "metadata": {},
   "outputs": [
    {
     "data": {
      "text/plain": [
       "'(2021– )'"
      ]
     },
     "execution_count": 17,
     "metadata": {},
     "output_type": "execute_result"
    }
   ],
   "source": [
    "df['Year'][0]"
   ]
  },
  {
   "cell_type": "markdown",
   "id": "407f22d7",
   "metadata": {},
   "source": [
    "### Now will fill in the null values which are present in the dataset"
   ]
  },
  {
   "cell_type": "code",
   "execution_count": 21,
   "id": "59de1375",
   "metadata": {},
   "outputs": [],
   "source": [
    "df.fillna(value=0,inplace=True)"
   ]
  },
  {
   "cell_type": "code",
   "execution_count": 22,
   "id": "190db6ad",
   "metadata": {},
   "outputs": [
    {
     "data": {
      "text/html": [
       "<div>\n",
       "<style scoped>\n",
       "    .dataframe tbody tr th:only-of-type {\n",
       "        vertical-align: middle;\n",
       "    }\n",
       "\n",
       "    .dataframe tbody tr th {\n",
       "        vertical-align: top;\n",
       "    }\n",
       "\n",
       "    .dataframe thead th {\n",
       "        text-align: right;\n",
       "    }\n",
       "</style>\n",
       "<table border=\"1\" class=\"dataframe\">\n",
       "  <thead>\n",
       "    <tr style=\"text-align: right;\">\n",
       "      <th></th>\n",
       "      <th>Title</th>\n",
       "      <th>Year</th>\n",
       "      <th>Rating</th>\n",
       "      <th>Votes:</th>\n",
       "      <th>Time</th>\n",
       "      <th>Genre</th>\n",
       "      <th>Stars</th>\n",
       "      <th>Short Story</th>\n",
       "    </tr>\n",
       "  </thead>\n",
       "  <tbody>\n",
       "    <tr>\n",
       "      <th>1984</th>\n",
       "      <td>untitled k-pop latin american project</td>\n",
       "      <td>0</td>\n",
       "      <td>-</td>\n",
       "      <td>-</td>\n",
       "      <td>-</td>\n",
       "      <td>reality-tv</td>\n",
       "      <td>-</td>\n",
       "      <td>young men from latin america audition for an o...</td>\n",
       "    </tr>\n",
       "    <tr>\n",
       "      <th>1985</th>\n",
       "      <td>bite sisters</td>\n",
       "      <td>(2021)</td>\n",
       "      <td>7.4</td>\n",
       "      <td>5</td>\n",
       "      <td>-</td>\n",
       "      <td>fantasy, romance</td>\n",
       "      <td>kang han-na, kim yeong-ah, yu-hwa choi, lee si...</td>\n",
       "      <td>this story follows han yi na a vampire who sud...</td>\n",
       "    </tr>\n",
       "    <tr>\n",
       "      <th>1986</th>\n",
       "      <td>adult trainee</td>\n",
       "      <td>(2021– )</td>\n",
       "      <td>7.1</td>\n",
       "      <td>10</td>\n",
       "      <td>-</td>\n",
       "      <td>comedy, romance</td>\n",
       "      <td>mi-yeon cho, ryu eui-hyun, lee chan hyung, yoo...</td>\n",
       "      <td>add a plot</td>\n",
       "    </tr>\n",
       "    <tr>\n",
       "      <th>1987</th>\n",
       "      <td>a good supper</td>\n",
       "      <td>(2021)</td>\n",
       "      <td>-</td>\n",
       "      <td>-</td>\n",
       "      <td>-</td>\n",
       "      <td>romance</td>\n",
       "      <td>-</td>\n",
       "      <td>add a plot</td>\n",
       "    </tr>\n",
       "    <tr>\n",
       "      <th>1988</th>\n",
       "      <td>user not found</td>\n",
       "      <td>(2021– )</td>\n",
       "      <td>-</td>\n",
       "      <td>-</td>\n",
       "      <td>-</td>\n",
       "      <td>drama, romance</td>\n",
       "      <td>-</td>\n",
       "      <td>add a plot</td>\n",
       "    </tr>\n",
       "  </tbody>\n",
       "</table>\n",
       "</div>"
      ],
      "text/plain": [
       "                                      Title      Year Rating Votes: Time  \\\n",
       "1984  untitled k-pop latin american project         0      -      -    -   \n",
       "1985                           bite sisters    (2021)    7.4      5    -   \n",
       "1986                          adult trainee  (2021– )    7.1     10    -   \n",
       "1987                          a good supper    (2021)      -      -    -   \n",
       "1988                         user not found  (2021– )      -      -    -   \n",
       "\n",
       "                 Genre                                              Stars  \\\n",
       "1984        reality-tv                                                  -   \n",
       "1985  fantasy, romance  kang han-na, kim yeong-ah, yu-hwa choi, lee si...   \n",
       "1986   comedy, romance  mi-yeon cho, ryu eui-hyun, lee chan hyung, yoo...   \n",
       "1987           romance                                                  -   \n",
       "1988    drama, romance                                                  -   \n",
       "\n",
       "                                            Short Story  \n",
       "1984  young men from latin america audition for an o...  \n",
       "1985  this story follows han yi na a vampire who sud...  \n",
       "1986                                         add a plot  \n",
       "1987                                         add a plot  \n",
       "1988                                         add a plot  "
      ]
     },
     "execution_count": 22,
     "metadata": {},
     "output_type": "execute_result"
    }
   ],
   "source": [
    "df.tail()"
   ]
  },
  {
   "cell_type": "code",
   "execution_count": 23,
   "id": "8f22535b",
   "metadata": {},
   "outputs": [
    {
     "data": {
      "text/plain": [
       "Title          0\n",
       "Year           0\n",
       "Rating         0\n",
       "Votes:         0\n",
       "Time           0\n",
       "Genre          0\n",
       "Stars          0\n",
       "Short Story    0\n",
       "dtype: int64"
      ]
     },
     "execution_count": 23,
     "metadata": {},
     "output_type": "execute_result"
    }
   ],
   "source": [
    "df.isnull().sum()"
   ]
  },
  {
   "cell_type": "markdown",
   "id": "727f7dc7",
   "metadata": {},
   "source": [
    "### If we look at our Rating feature then there's an issue with it i.e instead of null values it is marked as  \" - \"  (hypen)\n",
    "\n",
    "#### Let's now create a function to solve this problem"
   ]
  },
  {
   "cell_type": "code",
   "execution_count": 25,
   "id": "d139ba2e",
   "metadata": {},
   "outputs": [
    {
     "data": {
      "text/plain": [
       "0       6.7\n",
       "1       8.1\n",
       "2       7.9\n",
       "3       7.7\n",
       "4       8.6\n",
       "       ... \n",
       "1984      0\n",
       "1985    7.4\n",
       "1986    7.1\n",
       "1987      0\n",
       "1988      0\n",
       "Name: Rating, Length: 1989, dtype: object"
      ]
     },
     "execution_count": 25,
     "metadata": {},
     "output_type": "execute_result"
    }
   ],
   "source": [
    "for i in range(len(df['Rating'])):\n",
    "   \n",
    "    data = df.loc[i,'Rating'].split('.')\n",
    "    if data[0] == '-':\n",
    "        df.loc[i,'Rating'] = 0\n",
    "    else:\n",
    "        df.loc[i,'Rating'] = int(data[0])+(int(data[1])/10)\n",
    "\n",
    "df['Rating']"
   ]
  },
  {
   "cell_type": "markdown",
   "id": "39580850",
   "metadata": {},
   "source": [
    "### Now all the hypen marked values are converted to 0"
   ]
  },
  {
   "cell_type": "code",
   "execution_count": 26,
   "id": "5dc3ef02",
   "metadata": {},
   "outputs": [
    {
     "data": {
      "text/html": [
       "<div>\n",
       "<style scoped>\n",
       "    .dataframe tbody tr th:only-of-type {\n",
       "        vertical-align: middle;\n",
       "    }\n",
       "\n",
       "    .dataframe tbody tr th {\n",
       "        vertical-align: top;\n",
       "    }\n",
       "\n",
       "    .dataframe thead th {\n",
       "        text-align: right;\n",
       "    }\n",
       "</style>\n",
       "<table border=\"1\" class=\"dataframe\">\n",
       "  <thead>\n",
       "    <tr style=\"text-align: right;\">\n",
       "      <th></th>\n",
       "      <th>Title</th>\n",
       "      <th>Year</th>\n",
       "      <th>Rating</th>\n",
       "      <th>Votes:</th>\n",
       "      <th>Time</th>\n",
       "      <th>Genre</th>\n",
       "      <th>Stars</th>\n",
       "      <th>Short Story</th>\n",
       "    </tr>\n",
       "  </thead>\n",
       "  <tbody>\n",
       "    <tr>\n",
       "      <th>1984</th>\n",
       "      <td>untitled k-pop latin american project</td>\n",
       "      <td>0</td>\n",
       "      <td>0</td>\n",
       "      <td>-</td>\n",
       "      <td>-</td>\n",
       "      <td>reality-tv</td>\n",
       "      <td>-</td>\n",
       "      <td>young men from latin america audition for an o...</td>\n",
       "    </tr>\n",
       "    <tr>\n",
       "      <th>1985</th>\n",
       "      <td>bite sisters</td>\n",
       "      <td>(2021)</td>\n",
       "      <td>7.4</td>\n",
       "      <td>5</td>\n",
       "      <td>-</td>\n",
       "      <td>fantasy, romance</td>\n",
       "      <td>kang han-na, kim yeong-ah, yu-hwa choi, lee si...</td>\n",
       "      <td>this story follows han yi na a vampire who sud...</td>\n",
       "    </tr>\n",
       "    <tr>\n",
       "      <th>1986</th>\n",
       "      <td>adult trainee</td>\n",
       "      <td>(2021– )</td>\n",
       "      <td>7.1</td>\n",
       "      <td>10</td>\n",
       "      <td>-</td>\n",
       "      <td>comedy, romance</td>\n",
       "      <td>mi-yeon cho, ryu eui-hyun, lee chan hyung, yoo...</td>\n",
       "      <td>add a plot</td>\n",
       "    </tr>\n",
       "    <tr>\n",
       "      <th>1987</th>\n",
       "      <td>a good supper</td>\n",
       "      <td>(2021)</td>\n",
       "      <td>0</td>\n",
       "      <td>-</td>\n",
       "      <td>-</td>\n",
       "      <td>romance</td>\n",
       "      <td>-</td>\n",
       "      <td>add a plot</td>\n",
       "    </tr>\n",
       "    <tr>\n",
       "      <th>1988</th>\n",
       "      <td>user not found</td>\n",
       "      <td>(2021– )</td>\n",
       "      <td>0</td>\n",
       "      <td>-</td>\n",
       "      <td>-</td>\n",
       "      <td>drama, romance</td>\n",
       "      <td>-</td>\n",
       "      <td>add a plot</td>\n",
       "    </tr>\n",
       "  </tbody>\n",
       "</table>\n",
       "</div>"
      ],
      "text/plain": [
       "                                      Title      Year Rating Votes: Time  \\\n",
       "1984  untitled k-pop latin american project         0      0      -    -   \n",
       "1985                           bite sisters    (2021)    7.4      5    -   \n",
       "1986                          adult trainee  (2021– )    7.1     10    -   \n",
       "1987                          a good supper    (2021)      0      -    -   \n",
       "1988                         user not found  (2021– )      0      -    -   \n",
       "\n",
       "                 Genre                                              Stars  \\\n",
       "1984        reality-tv                                                  -   \n",
       "1985  fantasy, romance  kang han-na, kim yeong-ah, yu-hwa choi, lee si...   \n",
       "1986   comedy, romance  mi-yeon cho, ryu eui-hyun, lee chan hyung, yoo...   \n",
       "1987           romance                                                  -   \n",
       "1988    drama, romance                                                  -   \n",
       "\n",
       "                                            Short Story  \n",
       "1984  young men from latin america audition for an o...  \n",
       "1985  this story follows han yi na a vampire who sud...  \n",
       "1986                                         add a plot  \n",
       "1987                                         add a plot  \n",
       "1988                                         add a plot  "
      ]
     },
     "execution_count": 26,
     "metadata": {},
     "output_type": "execute_result"
    }
   ],
   "source": [
    "df.tail()"
   ]
  },
  {
   "cell_type": "markdown",
   "id": "50f6e637",
   "metadata": {},
   "source": [
    "### Here we need to change the name of Votes: to Votes because it's really difficult to manage with inconsistent name"
   ]
  },
  {
   "cell_type": "code",
   "execution_count": 29,
   "id": "c74a6d74",
   "metadata": {},
   "outputs": [
    {
     "data": {
      "text/plain": [
       "Index(['Title', 'Year', 'Rating', 'Votes', 'Time', 'Genre', 'Stars',\n",
       "       'Short Story'],\n",
       "      dtype='object')"
      ]
     },
     "execution_count": 29,
     "metadata": {},
     "output_type": "execute_result"
    }
   ],
   "source": [
    "df.rename(columns=lambda x: x.replace('Votes:','Votes'),inplace=True)\n",
    "df.columns"
   ]
  },
  {
   "cell_type": "markdown",
   "id": "0e654b31",
   "metadata": {},
   "source": [
    "### Here there's same problem as we had with ratings so let's solve it too"
   ]
  },
  {
   "cell_type": "code",
   "execution_count": 31,
   "id": "82c40fb6",
   "metadata": {},
   "outputs": [],
   "source": [
    "for i in range(len(df['Votes'])):\n",
    "    if df.loc[i,'Votes'] == '-':\n",
    "        df.loc[i,'Votes'] = 0\n",
    "    else:\n",
    "        if isinstance(df.loc[i,'Votes'],str) and ',' in df.loc[i,'Votes']:\n",
    "            df.loc[i,'Votes'] = int(df.loc[i,'Votes'].replace(',',''))"
   ]
  },
  {
   "cell_type": "code",
   "execution_count": 33,
   "id": "91e35e0c",
   "metadata": {},
   "outputs": [
    {
     "data": {
      "text/html": [
       "<div>\n",
       "<style scoped>\n",
       "    .dataframe tbody tr th:only-of-type {\n",
       "        vertical-align: middle;\n",
       "    }\n",
       "\n",
       "    .dataframe tbody tr th {\n",
       "        vertical-align: top;\n",
       "    }\n",
       "\n",
       "    .dataframe thead th {\n",
       "        text-align: right;\n",
       "    }\n",
       "</style>\n",
       "<table border=\"1\" class=\"dataframe\">\n",
       "  <thead>\n",
       "    <tr style=\"text-align: right;\">\n",
       "      <th></th>\n",
       "      <th>Title</th>\n",
       "      <th>Year</th>\n",
       "      <th>Rating</th>\n",
       "      <th>Votes</th>\n",
       "      <th>Time</th>\n",
       "      <th>Genre</th>\n",
       "      <th>Stars</th>\n",
       "      <th>Short Story</th>\n",
       "    </tr>\n",
       "  </thead>\n",
       "  <tbody>\n",
       "    <tr>\n",
       "      <th>1984</th>\n",
       "      <td>untitled k-pop latin american project</td>\n",
       "      <td>0</td>\n",
       "      <td>0</td>\n",
       "      <td>0</td>\n",
       "      <td>-</td>\n",
       "      <td>reality-tv</td>\n",
       "      <td>-</td>\n",
       "      <td>young men from latin america audition for an o...</td>\n",
       "    </tr>\n",
       "    <tr>\n",
       "      <th>1985</th>\n",
       "      <td>bite sisters</td>\n",
       "      <td>(2021)</td>\n",
       "      <td>7.4</td>\n",
       "      <td>5</td>\n",
       "      <td>-</td>\n",
       "      <td>fantasy, romance</td>\n",
       "      <td>kang han-na, kim yeong-ah, yu-hwa choi, lee si...</td>\n",
       "      <td>this story follows han yi na a vampire who sud...</td>\n",
       "    </tr>\n",
       "    <tr>\n",
       "      <th>1986</th>\n",
       "      <td>adult trainee</td>\n",
       "      <td>(2021– )</td>\n",
       "      <td>7.1</td>\n",
       "      <td>10</td>\n",
       "      <td>-</td>\n",
       "      <td>comedy, romance</td>\n",
       "      <td>mi-yeon cho, ryu eui-hyun, lee chan hyung, yoo...</td>\n",
       "      <td>add a plot</td>\n",
       "    </tr>\n",
       "    <tr>\n",
       "      <th>1987</th>\n",
       "      <td>a good supper</td>\n",
       "      <td>(2021)</td>\n",
       "      <td>0</td>\n",
       "      <td>0</td>\n",
       "      <td>-</td>\n",
       "      <td>romance</td>\n",
       "      <td>-</td>\n",
       "      <td>add a plot</td>\n",
       "    </tr>\n",
       "    <tr>\n",
       "      <th>1988</th>\n",
       "      <td>user not found</td>\n",
       "      <td>(2021– )</td>\n",
       "      <td>0</td>\n",
       "      <td>0</td>\n",
       "      <td>-</td>\n",
       "      <td>drama, romance</td>\n",
       "      <td>-</td>\n",
       "      <td>add a plot</td>\n",
       "    </tr>\n",
       "  </tbody>\n",
       "</table>\n",
       "</div>"
      ],
      "text/plain": [
       "                                      Title      Year Rating Votes Time  \\\n",
       "1984  untitled k-pop latin american project         0      0     0    -   \n",
       "1985                           bite sisters    (2021)    7.4     5    -   \n",
       "1986                          adult trainee  (2021– )    7.1    10    -   \n",
       "1987                          a good supper    (2021)      0     0    -   \n",
       "1988                         user not found  (2021– )      0     0    -   \n",
       "\n",
       "                 Genre                                              Stars  \\\n",
       "1984        reality-tv                                                  -   \n",
       "1985  fantasy, romance  kang han-na, kim yeong-ah, yu-hwa choi, lee si...   \n",
       "1986   comedy, romance  mi-yeon cho, ryu eui-hyun, lee chan hyung, yoo...   \n",
       "1987           romance                                                  -   \n",
       "1988    drama, romance                                                  -   \n",
       "\n",
       "                                            Short Story  \n",
       "1984  young men from latin america audition for an o...  \n",
       "1985  this story follows han yi na a vampire who sud...  \n",
       "1986                                         add a plot  \n",
       "1987                                         add a plot  \n",
       "1988                                         add a plot  "
      ]
     },
     "execution_count": 33,
     "metadata": {},
     "output_type": "execute_result"
    }
   ],
   "source": [
    "df.tail()"
   ]
  },
  {
   "cell_type": "markdown",
   "id": "039746d1",
   "metadata": {},
   "source": [
    "### In time feature we have data in mins and it will be bit tough to work with it afterwards so let's remove the mins and hypen to 0."
   ]
  },
  {
   "cell_type": "code",
   "execution_count": 35,
   "id": "108f3cd1",
   "metadata": {},
   "outputs": [],
   "source": [
    "for i in range(len(df['Time'])):\n",
    "    if df.loc[i,'Time'] == '-':\n",
    "        df.loc[i,'Time'] = 0\n",
    "    else:\n",
    "        df.loc[i,'Time'] = int(df.loc[i,'Time'].replace('min',''))\n",
    "\n",
    "        df['Time']"
   ]
  },
  {
   "cell_type": "code",
   "execution_count": 37,
   "id": "5de02f75",
   "metadata": {},
   "outputs": [
    {
     "data": {
      "text/html": [
       "<div>\n",
       "<style scoped>\n",
       "    .dataframe tbody tr th:only-of-type {\n",
       "        vertical-align: middle;\n",
       "    }\n",
       "\n",
       "    .dataframe tbody tr th {\n",
       "        vertical-align: top;\n",
       "    }\n",
       "\n",
       "    .dataframe thead th {\n",
       "        text-align: right;\n",
       "    }\n",
       "</style>\n",
       "<table border=\"1\" class=\"dataframe\">\n",
       "  <thead>\n",
       "    <tr style=\"text-align: right;\">\n",
       "      <th></th>\n",
       "      <th>Title</th>\n",
       "      <th>Year</th>\n",
       "      <th>Rating</th>\n",
       "      <th>Votes</th>\n",
       "      <th>Time</th>\n",
       "      <th>Genre</th>\n",
       "      <th>Stars</th>\n",
       "      <th>Short Story</th>\n",
       "    </tr>\n",
       "  </thead>\n",
       "  <tbody>\n",
       "    <tr>\n",
       "      <th>0</th>\n",
       "      <td>hellbound</td>\n",
       "      <td>(2021– )</td>\n",
       "      <td>6.7</td>\n",
       "      <td>14032</td>\n",
       "      <td>150</td>\n",
       "      <td>crime, drama, fantasy</td>\n",
       "      <td>yoo ah-in, kim hyun-joo, jeong min park, jin-a...</td>\n",
       "      <td>people hear predictions on when they will die....</td>\n",
       "    </tr>\n",
       "    <tr>\n",
       "      <th>1</th>\n",
       "      <td>squid game</td>\n",
       "      <td>(2021– )</td>\n",
       "      <td>8.1</td>\n",
       "      <td>339931</td>\n",
       "      <td>55</td>\n",
       "      <td>action, drama, mystery</td>\n",
       "      <td>lee jung-jae, park hae-soo, wi ha-joon, jung h...</td>\n",
       "      <td>hundreds of cash-strapped players accept a str...</td>\n",
       "    </tr>\n",
       "    <tr>\n",
       "      <th>2</th>\n",
       "      <td>my name</td>\n",
       "      <td>(2021– )</td>\n",
       "      <td>7.9</td>\n",
       "      <td>12877</td>\n",
       "      <td>50</td>\n",
       "      <td>action, crime, drama</td>\n",
       "      <td>hee-soon park, ahn bo-hyun, han so-hee, kim sa...</td>\n",
       "      <td>the story about a woman who joins an organized...</td>\n",
       "    </tr>\n",
       "    <tr>\n",
       "      <th>3</th>\n",
       "      <td>miraculous: tales of ladybug &amp; cat noir</td>\n",
       "      <td>(2015– )</td>\n",
       "      <td>7.7</td>\n",
       "      <td>9439</td>\n",
       "      <td>20</td>\n",
       "      <td>animation, action, adventure</td>\n",
       "      <td>cristina valenzuela, bryce papenbrook, keith s...</td>\n",
       "      <td>marinette and adrien, two normal teens, transf...</td>\n",
       "    </tr>\n",
       "    <tr>\n",
       "      <th>4</th>\n",
       "      <td>happiness</td>\n",
       "      <td>(2021– )</td>\n",
       "      <td>8.6</td>\n",
       "      <td>921</td>\n",
       "      <td>0</td>\n",
       "      <td>action, fantasy, thriller</td>\n",
       "      <td>han hyo-joo, park hyung-sik, woo-jin jo, lee j...</td>\n",
       "      <td>an apocalyptic thriller that takes place in a ...</td>\n",
       "    </tr>\n",
       "  </tbody>\n",
       "</table>\n",
       "</div>"
      ],
      "text/plain": [
       "                                     Title      Year Rating   Votes Time  \\\n",
       "0                                hellbound  (2021– )    6.7   14032  150   \n",
       "1                               squid game  (2021– )    8.1  339931   55   \n",
       "2                                  my name  (2021– )    7.9   12877   50   \n",
       "3  miraculous: tales of ladybug & cat noir  (2015– )    7.7    9439   20   \n",
       "4                                happiness  (2021– )    8.6     921    0   \n",
       "\n",
       "                          Genre  \\\n",
       "0         crime, drama, fantasy   \n",
       "1        action, drama, mystery   \n",
       "2          action, crime, drama   \n",
       "3  animation, action, adventure   \n",
       "4     action, fantasy, thriller   \n",
       "\n",
       "                                               Stars  \\\n",
       "0  yoo ah-in, kim hyun-joo, jeong min park, jin-a...   \n",
       "1  lee jung-jae, park hae-soo, wi ha-joon, jung h...   \n",
       "2  hee-soon park, ahn bo-hyun, han so-hee, kim sa...   \n",
       "3  cristina valenzuela, bryce papenbrook, keith s...   \n",
       "4  han hyo-joo, park hyung-sik, woo-jin jo, lee j...   \n",
       "\n",
       "                                         Short Story  \n",
       "0  people hear predictions on when they will die....  \n",
       "1  hundreds of cash-strapped players accept a str...  \n",
       "2  the story about a woman who joins an organized...  \n",
       "3  marinette and adrien, two normal teens, transf...  \n",
       "4  an apocalyptic thriller that takes place in a ...  "
      ]
     },
     "execution_count": 37,
     "metadata": {},
     "output_type": "execute_result"
    }
   ],
   "source": [
    "df.head()"
   ]
  },
  {
   "cell_type": "markdown",
   "id": "f6fd00fb",
   "metadata": {},
   "source": [
    "### We have a problem with year column that is we have 2021- and we want it to be 2021 so now let's do the needful"
   ]
  },
  {
   "cell_type": "code",
   "execution_count": 38,
   "id": "483ef846",
   "metadata": {},
   "outputs": [],
   "source": [
    "df['Release_year'] = df['Year'].apply(lambda y: str(y).split(\"-\")[0]).replace('\\D+','',regex=True)"
   ]
  },
  {
   "cell_type": "markdown",
   "id": "ec9b679f",
   "metadata": {},
   "source": [
    "### We are now dropping the previous Year column because we created new one i.e Release Year"
   ]
  },
  {
   "cell_type": "code",
   "execution_count": 40,
   "id": "9125a4f4",
   "metadata": {},
   "outputs": [],
   "source": [
    "df.drop('Year',axis=1,inplace=True)"
   ]
  },
  {
   "cell_type": "code",
   "execution_count": 57,
   "id": "d5045a54",
   "metadata": {},
   "outputs": [
    {
     "data": {
      "text/html": [
       "<div>\n",
       "<style scoped>\n",
       "    .dataframe tbody tr th:only-of-type {\n",
       "        vertical-align: middle;\n",
       "    }\n",
       "\n",
       "    .dataframe tbody tr th {\n",
       "        vertical-align: top;\n",
       "    }\n",
       "\n",
       "    .dataframe thead th {\n",
       "        text-align: right;\n",
       "    }\n",
       "</style>\n",
       "<table border=\"1\" class=\"dataframe\">\n",
       "  <thead>\n",
       "    <tr style=\"text-align: right;\">\n",
       "      <th></th>\n",
       "      <th>Title</th>\n",
       "      <th>Rating</th>\n",
       "      <th>Votes</th>\n",
       "      <th>Time</th>\n",
       "      <th>Genre</th>\n",
       "      <th>Stars</th>\n",
       "      <th>Short Story</th>\n",
       "      <th>Release_year</th>\n",
       "    </tr>\n",
       "  </thead>\n",
       "  <tbody>\n",
       "    <tr>\n",
       "      <th>1675</th>\n",
       "      <td>bike family</td>\n",
       "      <td>0.0</td>\n",
       "      <td>0</td>\n",
       "      <td>0</td>\n",
       "      <td>family</td>\n",
       "      <td>-</td>\n",
       "      <td>a family of aliens finds friendship and a comm...</td>\n",
       "      <td>2015</td>\n",
       "    </tr>\n",
       "    <tr>\n",
       "      <th>1209</th>\n",
       "      <td>unemployed romance</td>\n",
       "      <td>6.5</td>\n",
       "      <td>43</td>\n",
       "      <td>0</td>\n",
       "      <td>comedy, romance</td>\n",
       "      <td>young-ah lee, min namkoong, seul-ki bae, seo d...</td>\n",
       "      <td>im seung hee (lee young ah) scribbles her days...</td>\n",
       "      <td>2013</td>\n",
       "    </tr>\n",
       "    <tr>\n",
       "      <th>1140</th>\n",
       "      <td>haeundae lovers</td>\n",
       "      <td>5.8</td>\n",
       "      <td>59</td>\n",
       "      <td>0</td>\n",
       "      <td>comedy, romance</td>\n",
       "      <td>yeo-jeong cho, seok-won jeong, min-kyung kang,...</td>\n",
       "      <td>hardcore prosecutor lee tae sung (kim kang woo...</td>\n",
       "      <td>2012</td>\n",
       "    </tr>\n",
       "    <tr>\n",
       "      <th>1376</th>\n",
       "      <td>mother's sea</td>\n",
       "      <td>7.1</td>\n",
       "      <td>7</td>\n",
       "      <td>60</td>\n",
       "      <td>drama</td>\n",
       "      <td>min-su choi, young jae dok-go, hyun-jung go, k...</td>\n",
       "      <td>young hee has lead a comfortable and financial...</td>\n",
       "      <td>1993</td>\n",
       "    </tr>\n",
       "    <tr>\n",
       "      <th>1104</th>\n",
       "      <td>goong s</td>\n",
       "      <td>6.1</td>\n",
       "      <td>65</td>\n",
       "      <td>60</td>\n",
       "      <td>comedy, drama, romance</td>\n",
       "      <td>ho-jin chun, jae-yeong ha, yi-jae heo, ha jae-...</td>\n",
       "      <td>winning the hand of the queen means becoming t...</td>\n",
       "      <td>2007</td>\n",
       "    </tr>\n",
       "  </tbody>\n",
       "</table>\n",
       "</div>"
      ],
      "text/plain": [
       "                   Title  Rating  Votes  Time                   Genre  \\\n",
       "1675         bike family     0.0      0     0                  family   \n",
       "1209  unemployed romance     6.5     43     0         comedy, romance   \n",
       "1140     haeundae lovers     5.8     59     0         comedy, romance   \n",
       "1376        mother's sea     7.1      7    60                   drama   \n",
       "1104             goong s     6.1     65    60  comedy, drama, romance   \n",
       "\n",
       "                                                  Stars  \\\n",
       "1675                                                  -   \n",
       "1209  young-ah lee, min namkoong, seul-ki bae, seo d...   \n",
       "1140  yeo-jeong cho, seok-won jeong, min-kyung kang,...   \n",
       "1376  min-su choi, young jae dok-go, hyun-jung go, k...   \n",
       "1104  ho-jin chun, jae-yeong ha, yi-jae heo, ha jae-...   \n",
       "\n",
       "                                            Short Story  Release_year  \n",
       "1675  a family of aliens finds friendship and a comm...          2015  \n",
       "1209  im seung hee (lee young ah) scribbles her days...          2013  \n",
       "1140  hardcore prosecutor lee tae sung (kim kang woo...          2012  \n",
       "1376  young hee has lead a comfortable and financial...          1993  \n",
       "1104  winning the hand of the queen means becoming t...          2007  "
      ]
     },
     "execution_count": 57,
     "metadata": {},
     "output_type": "execute_result"
    }
   ],
   "source": [
    "df.sample(5)"
   ]
  },
  {
   "cell_type": "markdown",
   "id": "2dec334d",
   "metadata": {},
   "source": [
    "### We need to convert the object values which need to be numeric to numeric"
   ]
  },
  {
   "cell_type": "code",
   "execution_count": 48,
   "id": "22e21988",
   "metadata": {},
   "outputs": [],
   "source": [
    "for col in ['Release_year','Rating','Votes','Time']:\n",
    "    df[col] = df[col].apply(pd.to_numeric)"
   ]
  },
  {
   "cell_type": "markdown",
   "id": "a0c5c348",
   "metadata": {},
   "source": [
    "### To get an overview regarding frequency of each genre let's create a function and then the dataframe"
   ]
  },
  {
   "cell_type": "code",
   "execution_count": 61,
   "id": "8776404c",
   "metadata": {},
   "outputs": [],
   "source": [
    "# Extracting the genre\n",
    "g_list = list()\n",
    "for g in df['Genre'].to_list():\n",
    "    for genre in g.split(', '):\n",
    "        if genre!= \"-\":\n",
    "            g_list.append(genre)\n",
    "from collections import Counter\n",
    "genre_df = pd.DataFrame.from_dict(Counter(g_list),orient='index',columns=['Frequency']).reset_index()\n",
    "genre_df = genre_df.rename(columns={'index':'Category'})\n",
    "genre_df = genre_df.sort_values('Frequency',ascending=False)"
   ]
  },
  {
   "cell_type": "code",
   "execution_count": 63,
   "id": "4d03e225",
   "metadata": {},
   "outputs": [
    {
     "data": {
      "text/plain": [
       "(26, 2)"
      ]
     },
     "execution_count": 63,
     "metadata": {},
     "output_type": "execute_result"
    }
   ],
   "source": [
    "genre_df.shape"
   ]
  },
  {
   "cell_type": "markdown",
   "id": "2bfcd7bf",
   "metadata": {},
   "source": [
    "### Below is category with the frequency of genre"
   ]
  },
  {
   "cell_type": "code",
   "execution_count": 64,
   "id": "241abe2b",
   "metadata": {},
   "outputs": [
    {
     "data": {
      "text/html": [
       "<div>\n",
       "<style scoped>\n",
       "    .dataframe tbody tr th:only-of-type {\n",
       "        vertical-align: middle;\n",
       "    }\n",
       "\n",
       "    .dataframe tbody tr th {\n",
       "        vertical-align: top;\n",
       "    }\n",
       "\n",
       "    .dataframe thead th {\n",
       "        text-align: right;\n",
       "    }\n",
       "</style>\n",
       "<table border=\"1\" class=\"dataframe\">\n",
       "  <thead>\n",
       "    <tr style=\"text-align: right;\">\n",
       "      <th></th>\n",
       "      <th>Category</th>\n",
       "      <th>Frequency</th>\n",
       "    </tr>\n",
       "  </thead>\n",
       "  <tbody>\n",
       "    <tr>\n",
       "      <th>1</th>\n",
       "      <td>drama</td>\n",
       "      <td>990</td>\n",
       "    </tr>\n",
       "    <tr>\n",
       "      <th>10</th>\n",
       "      <td>romance</td>\n",
       "      <td>715</td>\n",
       "    </tr>\n",
       "    <tr>\n",
       "      <th>9</th>\n",
       "      <td>comedy</td>\n",
       "      <td>493</td>\n",
       "    </tr>\n",
       "    <tr>\n",
       "      <th>5</th>\n",
       "      <td>animation</td>\n",
       "      <td>186</td>\n",
       "    </tr>\n",
       "    <tr>\n",
       "      <th>3</th>\n",
       "      <td>action</td>\n",
       "      <td>183</td>\n",
       "    </tr>\n",
       "  </tbody>\n",
       "</table>\n",
       "</div>"
      ],
      "text/plain": [
       "     Category  Frequency\n",
       "1       drama        990\n",
       "10    romance        715\n",
       "9      comedy        493\n",
       "5   animation        186\n",
       "3      action        183"
      ]
     },
     "execution_count": 64,
     "metadata": {},
     "output_type": "execute_result"
    }
   ],
   "source": [
    "genre_df.head()"
   ]
  },
  {
   "cell_type": "markdown",
   "id": "ed56f9a8",
   "metadata": {},
   "source": [
    "### According the analysis the more viewed Kdramas are of Drama, Romance and Comedy genre"
   ]
  },
  {
   "cell_type": "code",
   "execution_count": 69,
   "id": "86adb8fd",
   "metadata": {},
   "outputs": [
    {
     "data": {
      "image/png": "[encoded data removed]",
      "text/plain": [
       "<Figure size 432x288 with 1 Axes>"
      ]
     },
     "metadata": {
      "needs_background": "light"
     },
     "output_type": "display_data"
    }
   ],
   "source": [
    "sns.barplot(x=genre_df['Category'],y=genre_df['Frequency'])\n",
    "plt.xticks(rotation=90)\n",
    "plt.show()"
   ]
  },
  {
   "cell_type": "markdown",
   "id": "f42f4f44",
   "metadata": {},
   "source": [
    "### We have successfully converted the data type of object to integer (which we mentioned above)"
   ]
  },
  {
   "cell_type": "code",
   "execution_count": 70,
   "id": "ebfde162",
   "metadata": {},
   "outputs": [
    {
     "name": "stdout",
     "output_type": "stream",
     "text": [
      "<class 'pandas.core.frame.DataFrame'>\n",
      "RangeIndex: 1989 entries, 0 to 1988\n",
      "Data columns (total 8 columns):\n",
      " #   Column        Non-Null Count  Dtype  \n",
      "---  ------        --------------  -----  \n",
      " 0   Title         1989 non-null   object \n",
      " 1   Rating        1989 non-null   float64\n",
      " 2   Votes         1989 non-null   int64  \n",
      " 3   Time          1989 non-null   int64  \n",
      " 4   Genre         1989 non-null   object \n",
      " 5   Stars         1989 non-null   object \n",
      " 6   Short Story   1989 non-null   object \n",
      " 7   Release_year  1989 non-null   int64  \n",
      "dtypes: float64(1), int64(3), object(4)\n",
      "memory usage: 124.4+ KB\n"
     ]
    }
   ],
   "source": [
    "df.info()"
   ]
  },
  {
   "cell_type": "markdown",
   "id": "8c6d623c",
   "metadata": {},
   "source": [
    "### Let's again get a glance at our data and our analysis till now"
   ]
  },
  {
   "cell_type": "code",
   "execution_count": 71,
   "id": "91fbd79a",
   "metadata": {},
   "outputs": [
    {
     "data": {
      "text/html": [
       "<div>\n",
       "<style scoped>\n",
       "    .dataframe tbody tr th:only-of-type {\n",
       "        vertical-align: middle;\n",
       "    }\n",
       "\n",
       "    .dataframe tbody tr th {\n",
       "        vertical-align: top;\n",
       "    }\n",
       "\n",
       "    .dataframe thead th {\n",
       "        text-align: right;\n",
       "    }\n",
       "</style>\n",
       "<table border=\"1\" class=\"dataframe\">\n",
       "  <thead>\n",
       "    <tr style=\"text-align: right;\">\n",
       "      <th></th>\n",
       "      <th>Title</th>\n",
       "      <th>Rating</th>\n",
       "      <th>Votes</th>\n",
       "      <th>Time</th>\n",
       "      <th>Genre</th>\n",
       "      <th>Stars</th>\n",
       "      <th>Short Story</th>\n",
       "      <th>Release_year</th>\n",
       "    </tr>\n",
       "  </thead>\n",
       "  <tbody>\n",
       "    <tr>\n",
       "      <th>0</th>\n",
       "      <td>hellbound</td>\n",
       "      <td>6.7</td>\n",
       "      <td>14032</td>\n",
       "      <td>150</td>\n",
       "      <td>crime, drama, fantasy</td>\n",
       "      <td>yoo ah-in, kim hyun-joo, jeong min park, jin-a...</td>\n",
       "      <td>people hear predictions on when they will die....</td>\n",
       "      <td>2021</td>\n",
       "    </tr>\n",
       "    <tr>\n",
       "      <th>1</th>\n",
       "      <td>squid game</td>\n",
       "      <td>8.1</td>\n",
       "      <td>339931</td>\n",
       "      <td>55</td>\n",
       "      <td>action, drama, mystery</td>\n",
       "      <td>lee jung-jae, park hae-soo, wi ha-joon, jung h...</td>\n",
       "      <td>hundreds of cash-strapped players accept a str...</td>\n",
       "      <td>2021</td>\n",
       "    </tr>\n",
       "    <tr>\n",
       "      <th>2</th>\n",
       "      <td>my name</td>\n",
       "      <td>7.9</td>\n",
       "      <td>12877</td>\n",
       "      <td>50</td>\n",
       "      <td>action, crime, drama</td>\n",
       "      <td>hee-soon park, ahn bo-hyun, han so-hee, kim sa...</td>\n",
       "      <td>the story about a woman who joins an organized...</td>\n",
       "      <td>2021</td>\n",
       "    </tr>\n",
       "    <tr>\n",
       "      <th>3</th>\n",
       "      <td>miraculous: tales of ladybug &amp; cat noir</td>\n",
       "      <td>7.7</td>\n",
       "      <td>9439</td>\n",
       "      <td>20</td>\n",
       "      <td>animation, action, adventure</td>\n",
       "      <td>cristina valenzuela, bryce papenbrook, keith s...</td>\n",
       "      <td>marinette and adrien, two normal teens, transf...</td>\n",
       "      <td>2015</td>\n",
       "    </tr>\n",
       "    <tr>\n",
       "      <th>4</th>\n",
       "      <td>happiness</td>\n",
       "      <td>8.6</td>\n",
       "      <td>921</td>\n",
       "      <td>0</td>\n",
       "      <td>action, fantasy, thriller</td>\n",
       "      <td>han hyo-joo, park hyung-sik, woo-jin jo, lee j...</td>\n",
       "      <td>an apocalyptic thriller that takes place in a ...</td>\n",
       "      <td>2021</td>\n",
       "    </tr>\n",
       "  </tbody>\n",
       "</table>\n",
       "</div>"
      ],
      "text/plain": [
       "                                     Title  Rating   Votes  Time  \\\n",
       "0                                hellbound     6.7   14032   150   \n",
       "1                               squid game     8.1  339931    55   \n",
       "2                                  my name     7.9   12877    50   \n",
       "3  miraculous: tales of ladybug & cat noir     7.7    9439    20   \n",
       "4                                happiness     8.6     921     0   \n",
       "\n",
       "                          Genre  \\\n",
       "0         crime, drama, fantasy   \n",
       "1        action, drama, mystery   \n",
       "2          action, crime, drama   \n",
       "3  animation, action, adventure   \n",
       "4     action, fantasy, thriller   \n",
       "\n",
       "                                               Stars  \\\n",
       "0  yoo ah-in, kim hyun-joo, jeong min park, jin-a...   \n",
       "1  lee jung-jae, park hae-soo, wi ha-joon, jung h...   \n",
       "2  hee-soon park, ahn bo-hyun, han so-hee, kim sa...   \n",
       "3  cristina valenzuela, bryce papenbrook, keith s...   \n",
       "4  han hyo-joo, park hyung-sik, woo-jin jo, lee j...   \n",
       "\n",
       "                                         Short Story  Release_year  \n",
       "0  people hear predictions on when they will die....          2021  \n",
       "1  hundreds of cash-strapped players accept a str...          2021  \n",
       "2  the story about a woman who joins an organized...          2021  \n",
       "3  marinette and adrien, two normal teens, transf...          2015  \n",
       "4  an apocalyptic thriller that takes place in a ...          2021  "
      ]
     },
     "execution_count": 71,
     "metadata": {},
     "output_type": "execute_result"
    }
   ],
   "source": [
    "df.head()"
   ]
  },
  {
   "cell_type": "markdown",
   "id": "7a97047d",
   "metadata": {},
   "source": [
    "### Let's now view the most rated kdrama which is nothing but Snowdrop"
   ]
  },
  {
   "cell_type": "code",
   "execution_count": 89,
   "id": "5d3c0504",
   "metadata": {},
   "outputs": [
    {
     "data": {
      "text/html": [
       "<div>\n",
       "<style scoped>\n",
       "    .dataframe tbody tr th:only-of-type {\n",
       "        vertical-align: middle;\n",
       "    }\n",
       "\n",
       "    .dataframe tbody tr th {\n",
       "        vertical-align: top;\n",
       "    }\n",
       "\n",
       "    .dataframe thead th {\n",
       "        text-align: right;\n",
       "    }\n",
       "</style>\n",
       "<table border=\"1\" class=\"dataframe\">\n",
       "  <thead>\n",
       "    <tr style=\"text-align: right;\">\n",
       "      <th></th>\n",
       "      <th>Title</th>\n",
       "      <th>Rating</th>\n",
       "      <th>Votes</th>\n",
       "      <th>Time</th>\n",
       "      <th>Genre</th>\n",
       "      <th>Stars</th>\n",
       "      <th>Short Story</th>\n",
       "      <th>Release_year</th>\n",
       "    </tr>\n",
       "  </thead>\n",
       "  <tbody>\n",
       "    <tr>\n",
       "      <th>41</th>\n",
       "      <td>snowdrop</td>\n",
       "      <td>10.0</td>\n",
       "      <td>140</td>\n",
       "      <td>70</td>\n",
       "      <td>drama, romance</td>\n",
       "      <td>jung hae-in, jisoo kim, yoo in-na, lee jung-hyun</td>\n",
       "      <td>adapted from the handwritten notes of a man wh...</td>\n",
       "      <td>2021</td>\n",
       "    </tr>\n",
       "  </tbody>\n",
       "</table>\n",
       "</div>"
      ],
      "text/plain": [
       "       Title  Rating  Votes  Time           Genre  \\\n",
       "41  snowdrop    10.0    140    70  drama, romance   \n",
       "\n",
       "                                               Stars  \\\n",
       "41  jung hae-in, jisoo kim, yoo in-na, lee jung-hyun   \n",
       "\n",
       "                                          Short Story  Release_year  \n",
       "41  adapted from the handwritten notes of a man wh...          2021  "
      ]
     },
     "execution_count": 89,
     "metadata": {},
     "output_type": "execute_result"
    }
   ],
   "source": [
    "df.loc[df['Rating']==10.0]"
   ]
  },
  {
   "cell_type": "markdown",
   "id": "17397baa",
   "metadata": {},
   "source": [
    "### Below is the dataframe of kdramas rated as 9.0 and above it"
   ]
  },
  {
   "cell_type": "code",
   "execution_count": 168,
   "id": "97c3dd31",
   "metadata": {},
   "outputs": [
    {
     "data": {
      "text/html": [
       "<div>\n",
       "<style scoped>\n",
       "    .dataframe tbody tr th:only-of-type {\n",
       "        vertical-align: middle;\n",
       "    }\n",
       "\n",
       "    .dataframe tbody tr th {\n",
       "        vertical-align: top;\n",
       "    }\n",
       "\n",
       "    .dataframe thead th {\n",
       "        text-align: right;\n",
       "    }\n",
       "</style>\n",
       "<table border=\"1\" class=\"dataframe\">\n",
       "  <thead>\n",
       "    <tr style=\"text-align: right;\">\n",
       "      <th></th>\n",
       "      <th>Title</th>\n",
       "      <th>Rating</th>\n",
       "      <th>Votes</th>\n",
       "      <th>Time</th>\n",
       "      <th>Genre</th>\n",
       "      <th>Stars</th>\n",
       "      <th>Short Story</th>\n",
       "      <th>Release_year</th>\n",
       "      <th>tags</th>\n",
       "    </tr>\n",
       "  </thead>\n",
       "  <tbody>\n",
       "    <tr>\n",
       "      <th>41</th>\n",
       "      <td>snowdrop</td>\n",
       "      <td>10.0</td>\n",
       "      <td>140</td>\n",
       "      <td>70</td>\n",
       "      <td>drama, romance</td>\n",
       "      <td>jung hae-in, jisoo kim, yoo in-na, lee jung-hyun</td>\n",
       "      <td>adapted from the handwritten notes of a man wh...</td>\n",
       "      <td>2021</td>\n",
       "      <td>drama, romancejung hae-in, jisoo kim, yoo in-n...</td>\n",
       "    </tr>\n",
       "    <tr>\n",
       "      <th>49</th>\n",
       "      <td>reply 1988</td>\n",
       "      <td>9.1</td>\n",
       "      <td>5643</td>\n",
       "      <td>90</td>\n",
       "      <td>comedy, drama, family</td>\n",
       "      <td>hyeri lee, go kyung-pyo, ryu jun-yeol, park bo...</td>\n",
       "      <td>follows the lives of 5 families living on the ...</td>\n",
       "      <td>20152016</td>\n",
       "      <td>comedy, drama, familyhyeri lee, go kyung-pyo, ...</td>\n",
       "    </tr>\n",
       "    <tr>\n",
       "      <th>58</th>\n",
       "      <td>my mister</td>\n",
       "      <td>9.1</td>\n",
       "      <td>4827</td>\n",
       "      <td>70</td>\n",
       "      <td>drama, family</td>\n",
       "      <td>sun-kyun lee, ji-eun lee, ji-ah lee, park ho-san</td>\n",
       "      <td>a man in his 40's withstands the weight of lif...</td>\n",
       "      <td>2018</td>\n",
       "      <td>drama, familysun-kyun lee, ji-eun lee, ji-ah l...</td>\n",
       "    </tr>\n",
       "    <tr>\n",
       "      <th>91</th>\n",
       "      <td>bad and crazy</td>\n",
       "      <td>9.1</td>\n",
       "      <td>20</td>\n",
       "      <td>0</td>\n",
       "      <td>crime, mystery</td>\n",
       "      <td>lee dong-wook, han ji-eun, hak-yeon cha, wi ha...</td>\n",
       "      <td>a mystery drama in which detectives with diffe...</td>\n",
       "      <td>2021</td>\n",
       "      <td>crime, mysterylee dong-wook, han ji-eun, hak-y...</td>\n",
       "    </tr>\n",
       "    <tr>\n",
       "      <th>100</th>\n",
       "      <td>running man</td>\n",
       "      <td>9.0</td>\n",
       "      <td>2938</td>\n",
       "      <td>80</td>\n",
       "      <td>comedy, game-show, reality-tv</td>\n",
       "      <td>jae-suk yoo, jong-kook kim, haha, kwang-soo lee</td>\n",
       "      <td>running man is a reality-variety show where th...</td>\n",
       "      <td>2010</td>\n",
       "      <td>comedy, game-show, reality-tvjae-suk yoo, jong...</td>\n",
       "    </tr>\n",
       "    <tr>\n",
       "      <th>106</th>\n",
       "      <td>in the soop bts ver.</td>\n",
       "      <td>9.5</td>\n",
       "      <td>593</td>\n",
       "      <td>0</td>\n",
       "      <td>reality-tv</td>\n",
       "      <td>rm, jin, suga, j-hope</td>\n",
       "      <td>the members of bts enjoy the beauty of the soo...</td>\n",
       "      <td>2020</td>\n",
       "      <td>reality-tvrm, jin, suga, j-hopethe members of ...</td>\n",
       "    </tr>\n",
       "    <tr>\n",
       "      <th>190</th>\n",
       "      <td>baradeon bada</td>\n",
       "      <td>9.5</td>\n",
       "      <td>71</td>\n",
       "      <td>80</td>\n",
       "      <td>music, reality-tv</td>\n",
       "      <td>jong-shin yoon, ji-ah lee, lee dong-wook, onew</td>\n",
       "      <td>the cast members open a bar on the sea side an...</td>\n",
       "      <td>2021</td>\n",
       "      <td>music, reality-tvjong-shin yoon, ji-ah lee, le...</td>\n",
       "    </tr>\n",
       "    <tr>\n",
       "      <th>383</th>\n",
       "      <td>bts: bon voyage</td>\n",
       "      <td>9.6</td>\n",
       "      <td>908</td>\n",
       "      <td>0</td>\n",
       "      <td>reality-tv</td>\n",
       "      <td>bts, j-hope, jimin, jin</td>\n",
       "      <td>bts: bon voyage is a reality show about member...</td>\n",
       "      <td>2016</td>\n",
       "      <td>reality-tvbts, j-hope, jimin, jinbts: bon voya...</td>\n",
       "    </tr>\n",
       "    <tr>\n",
       "      <th>402</th>\n",
       "      <td>run bts!</td>\n",
       "      <td>9.7</td>\n",
       "      <td>1013</td>\n",
       "      <td>0</td>\n",
       "      <td>game-show</td>\n",
       "      <td>rm, v, jin, jimin</td>\n",
       "      <td>run bts (dallyeola bangtan!) is a south korean...</td>\n",
       "      <td>2015</td>\n",
       "      <td>game-showrm, v, jin, jiminrun bts (dallyeola b...</td>\n",
       "    </tr>\n",
       "    <tr>\n",
       "      <th>510</th>\n",
       "      <td>bts: burn the stage</td>\n",
       "      <td>9.2</td>\n",
       "      <td>1526</td>\n",
       "      <td>30</td>\n",
       "      <td>documentary</td>\n",
       "      <td>bts, v, jimin, jungkook</td>\n",
       "      <td>kpop boy band bts share their journey and stru...</td>\n",
       "      <td>2018</td>\n",
       "      <td>documentarybts, v, jimin, jungkookkpop boy ban...</td>\n",
       "    </tr>\n",
       "    <tr>\n",
       "      <th>542</th>\n",
       "      <td>the genius</td>\n",
       "      <td>9.2</td>\n",
       "      <td>140</td>\n",
       "      <td>0</td>\n",
       "      <td>game-show</td>\n",
       "      <td>jin ho hong, sang-min lee, oh hyunmin, jang do...</td>\n",
       "      <td>a survivor game involving 13 \"geniuses\" of dif...</td>\n",
       "      <td>2013</td>\n",
       "      <td>game-showjin ho hong, sang-min lee, oh hyunmin...</td>\n",
       "    </tr>\n",
       "    <tr>\n",
       "      <th>650</th>\n",
       "      <td>tomorrow victory</td>\n",
       "      <td>9.3</td>\n",
       "      <td>7</td>\n",
       "      <td>0</td>\n",
       "      <td>drama, romance</td>\n",
       "      <td>so-min jun, phillip choi, bo-hee lee, eung-kyu...</td>\n",
       "      <td>add a plot</td>\n",
       "      <td>20152016</td>\n",
       "      <td>drama, romanceso-min jun, phillip choi, bo-hee...</td>\n",
       "    </tr>\n",
       "    <tr>\n",
       "      <th>779</th>\n",
       "      <td>bts gayo</td>\n",
       "      <td>9.3</td>\n",
       "      <td>322</td>\n",
       "      <td>0</td>\n",
       "      <td>game-show</td>\n",
       "      <td>bts, j-hope, jimin, jin</td>\n",
       "      <td>bts gayo is a south korean show by the boy ban...</td>\n",
       "      <td>2015</td>\n",
       "      <td>game-showbts, j-hope, jimin, jinbts gayo is a ...</td>\n",
       "    </tr>\n",
       "    <tr>\n",
       "      <th>784</th>\n",
       "      <td>standby</td>\n",
       "      <td>9.3</td>\n",
       "      <td>35</td>\n",
       "      <td>0</td>\n",
       "      <td>comedy</td>\n",
       "      <td>jung-woo choi, simon dominic, park joon-geum, ...</td>\n",
       "      <td>add a plot</td>\n",
       "      <td>2012</td>\n",
       "      <td>comedyjung-woo choi, simon dominic, park joon-...</td>\n",
       "    </tr>\n",
       "    <tr>\n",
       "      <th>1552</th>\n",
       "      <td>24/365 with blackpink</td>\n",
       "      <td>9.2</td>\n",
       "      <td>6</td>\n",
       "      <td>0</td>\n",
       "      <td>reality-tv</td>\n",
       "      <td>-</td>\n",
       "      <td>blackpink 24/365 with blackpink series</td>\n",
       "      <td>2020</td>\n",
       "      <td>reality-tv-blackpink 24/365 with blackpink series</td>\n",
       "    </tr>\n",
       "    <tr>\n",
       "      <th>1659</th>\n",
       "      <td>nct life in bangkok</td>\n",
       "      <td>9.0</td>\n",
       "      <td>7</td>\n",
       "      <td>0</td>\n",
       "      <td>reality-tv</td>\n",
       "      <td>doyoung, haechan, ji hansol, jaehyun</td>\n",
       "      <td>sm entertainment's rookie boy group nct are pl...</td>\n",
       "      <td>2016</td>\n",
       "      <td>reality-tvdoyoung, haechan, ji hansol, jaehyun...</td>\n",
       "    </tr>\n",
       "  </tbody>\n",
       "</table>\n",
       "</div>"
      ],
      "text/plain": [
       "                      Title  Rating  Votes  Time  \\\n",
       "41                 snowdrop    10.0    140    70   \n",
       "49               reply 1988     9.1   5643    90   \n",
       "58                my mister     9.1   4827    70   \n",
       "91            bad and crazy     9.1     20     0   \n",
       "100             running man     9.0   2938    80   \n",
       "106    in the soop bts ver.     9.5    593     0   \n",
       "190           baradeon bada     9.5     71    80   \n",
       "383         bts: bon voyage     9.6    908     0   \n",
       "402                run bts!     9.7   1013     0   \n",
       "510     bts: burn the stage     9.2   1526    30   \n",
       "542              the genius     9.2    140     0   \n",
       "650        tomorrow victory     9.3      7     0   \n",
       "779                bts gayo     9.3    322     0   \n",
       "784                 standby     9.3     35     0   \n",
       "1552  24/365 with blackpink     9.2      6     0   \n",
       "1659    nct life in bangkok     9.0      7     0   \n",
       "\n",
       "                              Genre  \\\n",
       "41                   drama, romance   \n",
       "49            comedy, drama, family   \n",
       "58                    drama, family   \n",
       "91                   crime, mystery   \n",
       "100   comedy, game-show, reality-tv   \n",
       "106                      reality-tv   \n",
       "190               music, reality-tv   \n",
       "383                      reality-tv   \n",
       "402                       game-show   \n",
       "510                     documentary   \n",
       "542                       game-show   \n",
       "650                  drama, romance   \n",
       "779                       game-show   \n",
       "784                          comedy   \n",
       "1552                     reality-tv   \n",
       "1659                     reality-tv   \n",
       "\n",
       "                                                  Stars  \\\n",
       "41     jung hae-in, jisoo kim, yoo in-na, lee jung-hyun   \n",
       "49    hyeri lee, go kyung-pyo, ryu jun-yeol, park bo...   \n",
       "58     sun-kyun lee, ji-eun lee, ji-ah lee, park ho-san   \n",
       "91    lee dong-wook, han ji-eun, hak-yeon cha, wi ha...   \n",
       "100     jae-suk yoo, jong-kook kim, haha, kwang-soo lee   \n",
       "106                               rm, jin, suga, j-hope   \n",
       "190      jong-shin yoon, ji-ah lee, lee dong-wook, onew   \n",
       "383                             bts, j-hope, jimin, jin   \n",
       "402                                   rm, v, jin, jimin   \n",
       "510                             bts, v, jimin, jungkook   \n",
       "542   jin ho hong, sang-min lee, oh hyunmin, jang do...   \n",
       "650   so-min jun, phillip choi, bo-hee lee, eung-kyu...   \n",
       "779                             bts, j-hope, jimin, jin   \n",
       "784   jung-woo choi, simon dominic, park joon-geum, ...   \n",
       "1552                                                  -   \n",
       "1659               doyoung, haechan, ji hansol, jaehyun   \n",
       "\n",
       "                                            Short Story  Release_year  \\\n",
       "41    adapted from the handwritten notes of a man wh...          2021   \n",
       "49    follows the lives of 5 families living on the ...      20152016   \n",
       "58    a man in his 40's withstands the weight of lif...          2018   \n",
       "91    a mystery drama in which detectives with diffe...          2021   \n",
       "100   running man is a reality-variety show where th...          2010   \n",
       "106   the members of bts enjoy the beauty of the soo...          2020   \n",
       "190   the cast members open a bar on the sea side an...          2021   \n",
       "383   bts: bon voyage is a reality show about member...          2016   \n",
       "402   run bts (dallyeola bangtan!) is a south korean...          2015   \n",
       "510   kpop boy band bts share their journey and stru...          2018   \n",
       "542   a survivor game involving 13 \"geniuses\" of dif...          2013   \n",
       "650                                          add a plot      20152016   \n",
       "779   bts gayo is a south korean show by the boy ban...          2015   \n",
       "784                                          add a plot          2012   \n",
       "1552             blackpink 24/365 with blackpink series          2020   \n",
       "1659  sm entertainment's rookie boy group nct are pl...          2016   \n",
       "\n",
       "                                                   tags  \n",
       "41    drama, romancejung hae-in, jisoo kim, yoo in-n...  \n",
       "49    comedy, drama, familyhyeri lee, go kyung-pyo, ...  \n",
       "58    drama, familysun-kyun lee, ji-eun lee, ji-ah l...  \n",
       "91    crime, mysterylee dong-wook, han ji-eun, hak-y...  \n",
       "100   comedy, game-show, reality-tvjae-suk yoo, jong...  \n",
       "106   reality-tvrm, jin, suga, j-hopethe members of ...  \n",
       "190   music, reality-tvjong-shin yoon, ji-ah lee, le...  \n",
       "383   reality-tvbts, j-hope, jimin, jinbts: bon voya...  \n",
       "402   game-showrm, v, jin, jiminrun bts (dallyeola b...  \n",
       "510   documentarybts, v, jimin, jungkookkpop boy ban...  \n",
       "542   game-showjin ho hong, sang-min lee, oh hyunmin...  \n",
       "650   drama, romanceso-min jun, phillip choi, bo-hee...  \n",
       "779   game-showbts, j-hope, jimin, jinbts gayo is a ...  \n",
       "784   comedyjung-woo choi, simon dominic, park joon-...  \n",
       "1552  reality-tv-blackpink 24/365 with blackpink series  \n",
       "1659  reality-tvdoyoung, haechan, ji hansol, jaehyun...  "
      ]
     },
     "execution_count": 168,
     "metadata": {},
     "output_type": "execute_result"
    }
   ],
   "source": [
    "df.loc[df['Rating']>=9.0]"
   ]
  },
  {
   "cell_type": "code",
   "execution_count": 169,
   "id": "eaaf15f1",
   "metadata": {},
   "outputs": [],
   "source": [
    "top_kdramas = df.loc[df['Rating']>=9.0].head(10)"
   ]
  },
  {
   "cell_type": "code",
   "execution_count": 170,
   "id": "f726bc97",
   "metadata": {},
   "outputs": [],
   "source": [
    "top_kdramas = top_kdramas.iloc[:,0:2]"
   ]
  },
  {
   "cell_type": "markdown",
   "id": "5410ae83",
   "metadata": {},
   "source": [
    "### Below is the barplot of top 10 kdramas"
   ]
  },
  {
   "cell_type": "code",
   "execution_count": 171,
   "id": "12b600df",
   "metadata": {},
   "outputs": [
    {
     "name": "stderr",
     "output_type": "stream",
     "text": [
      "C:\\Users\\Sakshi\\anaconda3\\lib\\site-packages\\seaborn\\_decorators.py:36: FutureWarning: Pass the following variables as keyword args: x, y. From version 0.12, the only valid positional argument will be `data`, and passing other arguments without an explicit keyword will result in an error or misinterpretation.\n",
      "  warnings.warn(\n"
     ]
    },
    {
     "data": {
      "image/png": "[encoded data removed]",
      "text/plain": [
       "<Figure size 432x288 with 1 Axes>"
      ]
     },
     "metadata": {
      "needs_background": "light"
     },
     "output_type": "display_data"
    }
   ],
   "source": [
    "sns.barplot(top_kdramas['Title'],top_kdramas['Rating'])\n",
    "plt.xticks(rotation=90)\n",
    "plt.show()"
   ]
  },
  {
   "cell_type": "code",
   "execution_count": 106,
   "id": "ed58d271",
   "metadata": {},
   "outputs": [
    {
     "data": {
      "text/plain": [
       "Index(['Title', 'Rating', 'Votes', 'Time', 'Genre', 'Stars', 'Short Story',\n",
       "       'Release_year'],\n",
       "      dtype='object')"
      ]
     },
     "execution_count": 106,
     "metadata": {},
     "output_type": "execute_result"
    }
   ],
   "source": [
    "df.columns"
   ]
  },
  {
   "cell_type": "markdown",
   "id": "6f9bcd89",
   "metadata": {},
   "source": [
    "### Now we need to consider genre,stars and short story features as one single feature"
   ]
  },
  {
   "cell_type": "code",
   "execution_count": 116,
   "id": "526a43a5",
   "metadata": {},
   "outputs": [],
   "source": [
    "df['tags'] = df['Genre']+df['Stars']+df['Short Story']"
   ]
  },
  {
   "cell_type": "code",
   "execution_count": 117,
   "id": "e606d23e",
   "metadata": {},
   "outputs": [
    {
     "data": {
      "text/html": [
       "<div>\n",
       "<style scoped>\n",
       "    .dataframe tbody tr th:only-of-type {\n",
       "        vertical-align: middle;\n",
       "    }\n",
       "\n",
       "    .dataframe tbody tr th {\n",
       "        vertical-align: top;\n",
       "    }\n",
       "\n",
       "    .dataframe thead th {\n",
       "        text-align: right;\n",
       "    }\n",
       "</style>\n",
       "<table border=\"1\" class=\"dataframe\">\n",
       "  <thead>\n",
       "    <tr style=\"text-align: right;\">\n",
       "      <th></th>\n",
       "      <th>Title</th>\n",
       "      <th>Rating</th>\n",
       "      <th>Votes</th>\n",
       "      <th>Time</th>\n",
       "      <th>Genre</th>\n",
       "      <th>Stars</th>\n",
       "      <th>Short Story</th>\n",
       "      <th>Release_year</th>\n",
       "      <th>tags</th>\n",
       "    </tr>\n",
       "  </thead>\n",
       "  <tbody>\n",
       "    <tr>\n",
       "      <th>0</th>\n",
       "      <td>hellbound</td>\n",
       "      <td>6.7</td>\n",
       "      <td>14032</td>\n",
       "      <td>150</td>\n",
       "      <td>crime, drama, fantasy</td>\n",
       "      <td>yoo ah-in, kim hyun-joo, jeong min park, jin-a...</td>\n",
       "      <td>people hear predictions on when they will die....</td>\n",
       "      <td>2021</td>\n",
       "      <td>crime, drama, fantasyyoo ah-in, kim hyun-joo, ...</td>\n",
       "    </tr>\n",
       "    <tr>\n",
       "      <th>1</th>\n",
       "      <td>squid game</td>\n",
       "      <td>8.1</td>\n",
       "      <td>339931</td>\n",
       "      <td>55</td>\n",
       "      <td>action, drama, mystery</td>\n",
       "      <td>lee jung-jae, park hae-soo, wi ha-joon, jung h...</td>\n",
       "      <td>hundreds of cash-strapped players accept a str...</td>\n",
       "      <td>2021</td>\n",
       "      <td>action, drama, mysterylee jung-jae, park hae-s...</td>\n",
       "    </tr>\n",
       "    <tr>\n",
       "      <th>2</th>\n",
       "      <td>my name</td>\n",
       "      <td>7.9</td>\n",
       "      <td>12877</td>\n",
       "      <td>50</td>\n",
       "      <td>action, crime, drama</td>\n",
       "      <td>hee-soon park, ahn bo-hyun, han so-hee, kim sa...</td>\n",
       "      <td>the story about a woman who joins an organized...</td>\n",
       "      <td>2021</td>\n",
       "      <td>action, crime, dramahee-soon park, ahn bo-hyun...</td>\n",
       "    </tr>\n",
       "    <tr>\n",
       "      <th>3</th>\n",
       "      <td>miraculous: tales of ladybug &amp; cat noir</td>\n",
       "      <td>7.7</td>\n",
       "      <td>9439</td>\n",
       "      <td>20</td>\n",
       "      <td>animation, action, adventure</td>\n",
       "      <td>cristina valenzuela, bryce papenbrook, keith s...</td>\n",
       "      <td>marinette and adrien, two normal teens, transf...</td>\n",
       "      <td>2015</td>\n",
       "      <td>animation, action, adventurecristina valenzuel...</td>\n",
       "    </tr>\n",
       "    <tr>\n",
       "      <th>4</th>\n",
       "      <td>happiness</td>\n",
       "      <td>8.6</td>\n",
       "      <td>921</td>\n",
       "      <td>0</td>\n",
       "      <td>action, fantasy, thriller</td>\n",
       "      <td>han hyo-joo, park hyung-sik, woo-jin jo, lee j...</td>\n",
       "      <td>an apocalyptic thriller that takes place in a ...</td>\n",
       "      <td>2021</td>\n",
       "      <td>action, fantasy, thrillerhan hyo-joo, park hyu...</td>\n",
       "    </tr>\n",
       "  </tbody>\n",
       "</table>\n",
       "</div>"
      ],
      "text/plain": [
       "                                     Title  Rating   Votes  Time  \\\n",
       "0                                hellbound     6.7   14032   150   \n",
       "1                               squid game     8.1  339931    55   \n",
       "2                                  my name     7.9   12877    50   \n",
       "3  miraculous: tales of ladybug & cat noir     7.7    9439    20   \n",
       "4                                happiness     8.6     921     0   \n",
       "\n",
       "                          Genre  \\\n",
       "0         crime, drama, fantasy   \n",
       "1        action, drama, mystery   \n",
       "2          action, crime, drama   \n",
       "3  animation, action, adventure   \n",
       "4     action, fantasy, thriller   \n",
       "\n",
       "                                               Stars  \\\n",
       "0  yoo ah-in, kim hyun-joo, jeong min park, jin-a...   \n",
       "1  lee jung-jae, park hae-soo, wi ha-joon, jung h...   \n",
       "2  hee-soon park, ahn bo-hyun, han so-hee, kim sa...   \n",
       "3  cristina valenzuela, bryce papenbrook, keith s...   \n",
       "4  han hyo-joo, park hyung-sik, woo-jin jo, lee j...   \n",
       "\n",
       "                                         Short Story  Release_year  \\\n",
       "0  people hear predictions on when they will die....          2021   \n",
       "1  hundreds of cash-strapped players accept a str...          2021   \n",
       "2  the story about a woman who joins an organized...          2021   \n",
       "3  marinette and adrien, two normal teens, transf...          2015   \n",
       "4  an apocalyptic thriller that takes place in a ...          2021   \n",
       "\n",
       "                                                tags  \n",
       "0  crime, drama, fantasyyoo ah-in, kim hyun-joo, ...  \n",
       "1  action, drama, mysterylee jung-jae, park hae-s...  \n",
       "2  action, crime, dramahee-soon park, ahn bo-hyun...  \n",
       "3  animation, action, adventurecristina valenzuel...  \n",
       "4  action, fantasy, thrillerhan hyo-joo, park hyu...  "
      ]
     },
     "execution_count": 117,
     "metadata": {},
     "output_type": "execute_result"
    }
   ],
   "source": [
    "df.head()"
   ]
  },
  {
   "cell_type": "markdown",
   "id": "af998b25",
   "metadata": {},
   "source": [
    "#### Let's import cosine similarity for further improvements and recommendations"
   ]
  },
  {
   "cell_type": "code",
   "execution_count": 107,
   "id": "7d0345e9",
   "metadata": {},
   "outputs": [],
   "source": [
    "from sklearn.metrics.pairwise import cosine_similarity"
   ]
  },
  {
   "cell_type": "code",
   "execution_count": 121,
   "id": "fa432415",
   "metadata": {},
   "outputs": [],
   "source": [
    "new_tags = df['tags']"
   ]
  },
  {
   "cell_type": "code",
   "execution_count": 124,
   "id": "1133456d",
   "metadata": {},
   "outputs": [
    {
     "data": {
      "text/plain": [
       "'crime, drama, fantasyyoo ah-in, kim hyun-joo, jeong min park, jin-ah wonpeople hear predictions on when they will die. when that time comes, a death angel appears in front of them and kills them.'"
      ]
     },
     "execution_count": 124,
     "metadata": {},
     "output_type": "execute_result"
    }
   ],
   "source": [
    "df['tags'][0]"
   ]
  },
  {
   "cell_type": "markdown",
   "id": "cabb348d",
   "metadata": {},
   "source": [
    "#### Now we need to create object of CountVectorize class"
   ]
  },
  {
   "cell_type": "code",
   "execution_count": 113,
   "id": "a8c3d68e",
   "metadata": {},
   "outputs": [],
   "source": [
    "from sklearn.feature_extraction.text import CountVectorizer\n",
    "cv = CountVectorizer(max_features=5000,stop_words='english')"
   ]
  },
  {
   "cell_type": "code",
   "execution_count": 125,
   "id": "ba0ed181",
   "metadata": {},
   "outputs": [],
   "source": [
    "vectors = cv.fit_transform(df['tags']).toarray()"
   ]
  },
  {
   "cell_type": "code",
   "execution_count": 126,
   "id": "e3024fdb",
   "metadata": {},
   "outputs": [
    {
     "data": {
      "text/plain": [
       "array([[0, 0, 0, ..., 0, 0, 0],\n",
       "       [0, 0, 0, ..., 0, 0, 0],\n",
       "       [0, 0, 0, ..., 0, 0, 0],\n",
       "       ...,\n",
       "       [0, 0, 0, ..., 0, 0, 0],\n",
       "       [0, 0, 0, ..., 0, 0, 0],\n",
       "       [0, 0, 0, ..., 0, 0, 0]], dtype=int64)"
      ]
     },
     "execution_count": 126,
     "metadata": {},
     "output_type": "execute_result"
    }
   ],
   "source": [
    "vectors"
   ]
  },
  {
   "cell_type": "code",
   "execution_count": 143,
   "id": "a8d5760d",
   "metadata": {},
   "outputs": [],
   "source": [
    "similarity = cosine_similarity(vectors)"
   ]
  },
  {
   "cell_type": "code",
   "execution_count": 144,
   "id": "081662f0",
   "metadata": {},
   "outputs": [
    {
     "data": {
      "text/plain": [
       "(1989, 1989)"
      ]
     },
     "execution_count": 144,
     "metadata": {},
     "output_type": "execute_result"
    }
   ],
   "source": [
    "similarity.shape"
   ]
  },
  {
   "cell_type": "markdown",
   "id": "12be84ed",
   "metadata": {},
   "source": [
    "### Let's now create a function using cosine similarity to provide user content based recommendation"
   ]
  },
  {
   "cell_type": "code",
   "execution_count": 149,
   "id": "74d2e2f2",
   "metadata": {},
   "outputs": [],
   "source": [
    "def recommend(drama):\n",
    "    drama_index = df[df['Title']==drama].index[0]\n",
    "    distances = similarity[drama_index]\n",
    "    drama_list = sorted(list(enumerate(distances)),reverse=True,key=lambda x:x[1])[1:6]\n",
    "    \n",
    "    for i in drama_list:\n",
    "        print(df.iloc[i[0]].Title)\n",
    "    "
   ]
  },
  {
   "cell_type": "markdown",
   "id": "dc838ef8",
   "metadata": {},
   "source": [
    "### Below is the recommendation of the dramma run bts"
   ]
  },
  {
   "cell_type": "code",
   "execution_count": 163,
   "id": "1ba6c961",
   "metadata": {},
   "outputs": [
    {
     "name": "stdout",
     "output_type": "stream",
     "text": [
      "bts gayo\n",
      "bts: bon voyage\n",
      "bts: burn the stage\n",
      "elsword: el lady\n",
      "love letter\n"
     ]
    }
   ],
   "source": [
    "recommend('run bts!')"
   ]
  }
 ],
 "metadata": {
  "kernelspec": {
   "display_name": "Python 3 (ipykernel)",
   "language": "python",
   "name": "python3"
  },
  "language_info": {
   "codemirror_mode": {
    "name": "ipython",
    "version": 3
   },
   "file_extension": ".py",
   "mimetype": "text/x-python",
   "name": "python",
   "nbconvert_exporter": "python",
   "pygments_lexer": "ipython3",
   "version": "3.9.7"
  }
 },
 "nbformat": 4,
 "nbformat_minor": 5
}
