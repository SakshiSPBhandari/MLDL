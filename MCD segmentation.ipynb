{
 "cells": [
  {
   "cell_type": "markdown",
   "id": "93138391",
   "metadata": {},
   "source": [
    "## Importing all the libraries required for EDA"
   ]
  },
  {
   "cell_type": "code",
   "execution_count": 1,
   "id": "43fa58cb",
   "metadata": {},
   "outputs": [],
   "source": [
    "import pandas as pd\n",
    "import numpy as np\n",
    "import seaborn as sns\n",
    "import matplotlib.pyplot as plt\n",
    "\n",
    "import warnings\n",
    "warnings.filterwarnings(\"ignore\")"
   ]
  },
  {
   "cell_type": "markdown",
   "id": "736915dc",
   "metadata": {},
   "source": [
    "### Importing the dataset "
   ]
  },
  {
   "cell_type": "code",
   "execution_count": 2,
   "id": "0b7b01df",
   "metadata": {},
   "outputs": [],
   "source": [
    "df = pd.read_csv('mcdonalds.csv')"
   ]
  },
  {
   "cell_type": "markdown",
   "id": "90a26e7d",
   "metadata": {},
   "source": [
    "### First 5 rows of the dataset"
   ]
  },
  {
   "cell_type": "code",
   "execution_count": 3,
   "id": "4a4384f4",
   "metadata": {},
   "outputs": [
    {
     "data": {
      "text/html": [
       "<div>\n",
       "<style scoped>\n",
       "    .dataframe tbody tr th:only-of-type {\n",
       "        vertical-align: middle;\n",
       "    }\n",
       "\n",
       "    .dataframe tbody tr th {\n",
       "        vertical-align: top;\n",
       "    }\n",
       "\n",
       "    .dataframe thead th {\n",
       "        text-align: right;\n",
       "    }\n",
       "</style>\n",
       "<table border=\"1\" class=\"dataframe\">\n",
       "  <thead>\n",
       "    <tr style=\"text-align: right;\">\n",
       "      <th></th>\n",
       "      <th>yummy</th>\n",
       "      <th>convenient</th>\n",
       "      <th>spicy</th>\n",
       "      <th>fattening</th>\n",
       "      <th>greasy</th>\n",
       "      <th>fast</th>\n",
       "      <th>cheap</th>\n",
       "      <th>tasty</th>\n",
       "      <th>expensive</th>\n",
       "      <th>healthy</th>\n",
       "      <th>disgusting</th>\n",
       "      <th>Like</th>\n",
       "      <th>Age</th>\n",
       "      <th>VisitFrequency</th>\n",
       "      <th>Gender</th>\n",
       "    </tr>\n",
       "  </thead>\n",
       "  <tbody>\n",
       "    <tr>\n",
       "      <th>0</th>\n",
       "      <td>No</td>\n",
       "      <td>Yes</td>\n",
       "      <td>No</td>\n",
       "      <td>Yes</td>\n",
       "      <td>No</td>\n",
       "      <td>Yes</td>\n",
       "      <td>Yes</td>\n",
       "      <td>No</td>\n",
       "      <td>Yes</td>\n",
       "      <td>No</td>\n",
       "      <td>No</td>\n",
       "      <td>-3</td>\n",
       "      <td>61</td>\n",
       "      <td>Every three months</td>\n",
       "      <td>Female</td>\n",
       "    </tr>\n",
       "    <tr>\n",
       "      <th>1</th>\n",
       "      <td>Yes</td>\n",
       "      <td>Yes</td>\n",
       "      <td>No</td>\n",
       "      <td>Yes</td>\n",
       "      <td>Yes</td>\n",
       "      <td>Yes</td>\n",
       "      <td>Yes</td>\n",
       "      <td>Yes</td>\n",
       "      <td>Yes</td>\n",
       "      <td>No</td>\n",
       "      <td>No</td>\n",
       "      <td>+2</td>\n",
       "      <td>51</td>\n",
       "      <td>Every three months</td>\n",
       "      <td>Female</td>\n",
       "    </tr>\n",
       "    <tr>\n",
       "      <th>2</th>\n",
       "      <td>No</td>\n",
       "      <td>Yes</td>\n",
       "      <td>Yes</td>\n",
       "      <td>Yes</td>\n",
       "      <td>Yes</td>\n",
       "      <td>Yes</td>\n",
       "      <td>No</td>\n",
       "      <td>Yes</td>\n",
       "      <td>Yes</td>\n",
       "      <td>Yes</td>\n",
       "      <td>No</td>\n",
       "      <td>+1</td>\n",
       "      <td>62</td>\n",
       "      <td>Every three months</td>\n",
       "      <td>Female</td>\n",
       "    </tr>\n",
       "    <tr>\n",
       "      <th>3</th>\n",
       "      <td>Yes</td>\n",
       "      <td>Yes</td>\n",
       "      <td>No</td>\n",
       "      <td>Yes</td>\n",
       "      <td>Yes</td>\n",
       "      <td>Yes</td>\n",
       "      <td>Yes</td>\n",
       "      <td>Yes</td>\n",
       "      <td>No</td>\n",
       "      <td>No</td>\n",
       "      <td>Yes</td>\n",
       "      <td>+4</td>\n",
       "      <td>69</td>\n",
       "      <td>Once a week</td>\n",
       "      <td>Female</td>\n",
       "    </tr>\n",
       "    <tr>\n",
       "      <th>4</th>\n",
       "      <td>No</td>\n",
       "      <td>Yes</td>\n",
       "      <td>No</td>\n",
       "      <td>Yes</td>\n",
       "      <td>Yes</td>\n",
       "      <td>Yes</td>\n",
       "      <td>Yes</td>\n",
       "      <td>No</td>\n",
       "      <td>No</td>\n",
       "      <td>Yes</td>\n",
       "      <td>No</td>\n",
       "      <td>+2</td>\n",
       "      <td>49</td>\n",
       "      <td>Once a month</td>\n",
       "      <td>Male</td>\n",
       "    </tr>\n",
       "  </tbody>\n",
       "</table>\n",
       "</div>"
      ],
      "text/plain": [
       "  yummy convenient spicy fattening greasy fast cheap tasty expensive healthy  \\\n",
       "0    No        Yes    No       Yes     No  Yes   Yes    No       Yes      No   \n",
       "1   Yes        Yes    No       Yes    Yes  Yes   Yes   Yes       Yes      No   \n",
       "2    No        Yes   Yes       Yes    Yes  Yes    No   Yes       Yes     Yes   \n",
       "3   Yes        Yes    No       Yes    Yes  Yes   Yes   Yes        No      No   \n",
       "4    No        Yes    No       Yes    Yes  Yes   Yes    No        No     Yes   \n",
       "\n",
       "  disgusting Like  Age      VisitFrequency  Gender  \n",
       "0         No   -3   61  Every three months  Female  \n",
       "1         No   +2   51  Every three months  Female  \n",
       "2         No   +1   62  Every three months  Female  \n",
       "3        Yes   +4   69         Once a week  Female  \n",
       "4         No   +2   49        Once a month    Male  "
      ]
     },
     "execution_count": 3,
     "metadata": {},
     "output_type": "execute_result"
    }
   ],
   "source": [
    "df.head()"
   ]
  },
  {
   "cell_type": "markdown",
   "id": "b169c7c0",
   "metadata": {},
   "source": [
    "### shape tells us about size of data in rows and columns respectively"
   ]
  },
  {
   "cell_type": "code",
   "execution_count": 4,
   "id": "1487395e",
   "metadata": {},
   "outputs": [
    {
     "data": {
      "text/plain": [
       "(1453, 15)"
      ]
     },
     "execution_count": 4,
     "metadata": {},
     "output_type": "execute_result"
    }
   ],
   "source": [
    "df.shape"
   ]
  },
  {
   "cell_type": "markdown",
   "id": "b3c721ce",
   "metadata": {},
   "source": [
    "### Understanding the data types of column present in the dataset"
   ]
  },
  {
   "cell_type": "code",
   "execution_count": 5,
   "id": "147f35d9",
   "metadata": {},
   "outputs": [
    {
     "data": {
      "text/plain": [
       "yummy             object\n",
       "convenient        object\n",
       "spicy             object\n",
       "fattening         object\n",
       "greasy            object\n",
       "fast              object\n",
       "cheap             object\n",
       "tasty             object\n",
       "expensive         object\n",
       "healthy           object\n",
       "disgusting        object\n",
       "Like              object\n",
       "Age                int64\n",
       "VisitFrequency    object\n",
       "Gender            object\n",
       "dtype: object"
      ]
     },
     "execution_count": 5,
     "metadata": {},
     "output_type": "execute_result"
    }
   ],
   "source": [
    "df.dtypes"
   ]
  },
  {
   "cell_type": "markdown",
   "id": "1c10a54b",
   "metadata": {},
   "source": [
    "#### describe helps us understand the statistical values of the column\n",
    "#### age column tells us that the minimum age is 18 and maximum age is 71"
   ]
  },
  {
   "cell_type": "code",
   "execution_count": 6,
   "id": "708a1176",
   "metadata": {},
   "outputs": [
    {
     "data": {
      "text/html": [
       "<div>\n",
       "<style scoped>\n",
       "    .dataframe tbody tr th:only-of-type {\n",
       "        vertical-align: middle;\n",
       "    }\n",
       "\n",
       "    .dataframe tbody tr th {\n",
       "        vertical-align: top;\n",
       "    }\n",
       "\n",
       "    .dataframe thead th {\n",
       "        text-align: right;\n",
       "    }\n",
       "</style>\n",
       "<table border=\"1\" class=\"dataframe\">\n",
       "  <thead>\n",
       "    <tr style=\"text-align: right;\">\n",
       "      <th></th>\n",
       "      <th>Age</th>\n",
       "    </tr>\n",
       "  </thead>\n",
       "  <tbody>\n",
       "    <tr>\n",
       "      <th>count</th>\n",
       "      <td>1453.000000</td>\n",
       "    </tr>\n",
       "    <tr>\n",
       "      <th>mean</th>\n",
       "      <td>44.604955</td>\n",
       "    </tr>\n",
       "    <tr>\n",
       "      <th>std</th>\n",
       "      <td>14.221178</td>\n",
       "    </tr>\n",
       "    <tr>\n",
       "      <th>min</th>\n",
       "      <td>18.000000</td>\n",
       "    </tr>\n",
       "    <tr>\n",
       "      <th>25%</th>\n",
       "      <td>33.000000</td>\n",
       "    </tr>\n",
       "    <tr>\n",
       "      <th>50%</th>\n",
       "      <td>45.000000</td>\n",
       "    </tr>\n",
       "    <tr>\n",
       "      <th>75%</th>\n",
       "      <td>57.000000</td>\n",
       "    </tr>\n",
       "    <tr>\n",
       "      <th>max</th>\n",
       "      <td>71.000000</td>\n",
       "    </tr>\n",
       "  </tbody>\n",
       "</table>\n",
       "</div>"
      ],
      "text/plain": [
       "               Age\n",
       "count  1453.000000\n",
       "mean     44.604955\n",
       "std      14.221178\n",
       "min      18.000000\n",
       "25%      33.000000\n",
       "50%      45.000000\n",
       "75%      57.000000\n",
       "max      71.000000"
      ]
     },
     "execution_count": 6,
     "metadata": {},
     "output_type": "execute_result"
    }
   ],
   "source": [
    "df.describe()"
   ]
  },
  {
   "cell_type": "markdown",
   "id": "c6dfa7d6",
   "metadata": {},
   "source": [
    "### Let's understand more about our dataset using the info function which gives idea about the not null values and data type together"
   ]
  },
  {
   "cell_type": "code",
   "execution_count": 7,
   "id": "5db1e677",
   "metadata": {},
   "outputs": [
    {
     "name": "stdout",
     "output_type": "stream",
     "text": [
      "<class 'pandas.core.frame.DataFrame'>\n",
      "RangeIndex: 1453 entries, 0 to 1452\n",
      "Data columns (total 15 columns):\n",
      " #   Column          Non-Null Count  Dtype \n",
      "---  ------          --------------  ----- \n",
      " 0   yummy           1453 non-null   object\n",
      " 1   convenient      1453 non-null   object\n",
      " 2   spicy           1453 non-null   object\n",
      " 3   fattening       1453 non-null   object\n",
      " 4   greasy          1453 non-null   object\n",
      " 5   fast            1453 non-null   object\n",
      " 6   cheap           1453 non-null   object\n",
      " 7   tasty           1453 non-null   object\n",
      " 8   expensive       1453 non-null   object\n",
      " 9   healthy         1453 non-null   object\n",
      " 10  disgusting      1453 non-null   object\n",
      " 11  Like            1453 non-null   object\n",
      " 12  Age             1453 non-null   int64 \n",
      " 13  VisitFrequency  1453 non-null   object\n",
      " 14  Gender          1453 non-null   object\n",
      "dtypes: int64(1), object(14)\n",
      "memory usage: 170.4+ KB\n"
     ]
    }
   ],
   "source": [
    "df.info()"
   ]
  },
  {
   "cell_type": "markdown",
   "id": "205dae46",
   "metadata": {},
   "source": [
    "### Fortunately there are no missing values in our dataset"
   ]
  },
  {
   "cell_type": "code",
   "execution_count": 8,
   "id": "46993c8e",
   "metadata": {},
   "outputs": [
    {
     "data": {
      "text/plain": [
       "yummy             0\n",
       "convenient        0\n",
       "spicy             0\n",
       "fattening         0\n",
       "greasy            0\n",
       "fast              0\n",
       "cheap             0\n",
       "tasty             0\n",
       "expensive         0\n",
       "healthy           0\n",
       "disgusting        0\n",
       "Like              0\n",
       "Age               0\n",
       "VisitFrequency    0\n",
       "Gender            0\n",
       "dtype: int64"
      ]
     },
     "execution_count": 8,
     "metadata": {},
     "output_type": "execute_result"
    }
   ],
   "source": [
    "df.isnull().sum()"
   ]
  },
  {
   "cell_type": "markdown",
   "id": "26c0ccf5",
   "metadata": {},
   "source": [
    "### Using value_counts function let's get an overview of number of values present in each column"
   ]
  },
  {
   "cell_type": "code",
   "execution_count": 9,
   "id": "02d08e93",
   "metadata": {},
   "outputs": [
    {
     "data": {
      "text/plain": [
       "Female    788\n",
       "Male      665\n",
       "Name: Gender, dtype: int64"
      ]
     },
     "execution_count": 9,
     "metadata": {},
     "output_type": "execute_result"
    }
   ],
   "source": [
    "df['Gender'].value_counts()"
   ]
  },
  {
   "cell_type": "code",
   "execution_count": 10,
   "id": "3f5ba069",
   "metadata": {},
   "outputs": [
    {
     "data": {
      "text/plain": [
       "Once a month             439\n",
       "Every three months       342\n",
       "Once a year              252\n",
       "Once a week              235\n",
       "Never                    131\n",
       "More than once a week     54\n",
       "Name: VisitFrequency, dtype: int64"
      ]
     },
     "execution_count": 10,
     "metadata": {},
     "output_type": "execute_result"
    }
   ],
   "source": [
    "df['VisitFrequency'].value_counts()"
   ]
  },
  {
   "cell_type": "code",
   "execution_count": 11,
   "id": "bceb894b",
   "metadata": {},
   "outputs": [
    {
     "data": {
      "text/plain": [
       "+3              229\n",
       "+2              187\n",
       "0               169\n",
       "+4              160\n",
       "+1              152\n",
       "I hate it!-5    152\n",
       "I love it!+5    143\n",
       "-3               73\n",
       "-4               71\n",
       "-2               59\n",
       "-1               58\n",
       "Name: Like, dtype: int64"
      ]
     },
     "execution_count": 11,
     "metadata": {},
     "output_type": "execute_result"
    }
   ],
   "source": [
    "df['Like'].value_counts()"
   ]
  },
  {
   "cell_type": "markdown",
   "id": "8885192a",
   "metadata": {},
   "source": [
    "### Below pie chart suggests that the number of female customers are more as compared to the male customers"
   ]
  },
  {
   "cell_type": "code",
   "execution_count": 12,
   "id": "6fcf6bdf",
   "metadata": {},
   "outputs": [
    {
     "data": {
      "image/png": "[encoded data removed]",
      "text/plain": [
       "<Figure size 576x504 with 1 Axes>"
      ]
     },
     "metadata": {},
     "output_type": "display_data"
    }
   ],
   "source": [
    "plt.figure(figsize=(8,7))\n",
    "plt.pie(x=df['Gender'].value_counts(),data=df,autopct ='%.2f%%',labels=['Female','Male'])\n",
    "plt.legend()\n",
    "plt.show()"
   ]
  },
  {
   "cell_type": "markdown",
   "id": "6c249f7b",
   "metadata": {},
   "source": [
    "### Below bar chart gives us an understanding about the number of customers according to the age"
   ]
  },
  {
   "cell_type": "code",
   "execution_count": 13,
   "id": "2fb23c65",
   "metadata": {},
   "outputs": [
    {
     "data": {
      "image/png": "[encoded data removed]",
      "text/plain": [
       "<Figure size 1872x576 with 1 Axes>"
      ]
     },
     "metadata": {
      "needs_background": "light"
     },
     "output_type": "display_data"
    }
   ],
   "source": [
    "plt.rcParams['figure.figsize']=(26,8)\n",
    "fig = sns.countplot(x=df['Age'])\n",
    "fig.bar_label(fig.containers[0])\n",
    "plt.title(\"Age Distribution\")\n",
    "plt.show()"
   ]
  },
  {
   "cell_type": "markdown",
   "id": "50ee6074",
   "metadata": {},
   "source": [
    "### It will be really difficult to work with the Like column because of categorical and numerical values present together so let's convert the categorical column to numerical values.\n",
    "I hate it!-5 : to -5 \n",
    "\n",
    "\n",
    "I hate it!+5 : to +5 "
   ]
  },
  {
   "cell_type": "code",
   "execution_count": 14,
   "id": "187c557a",
   "metadata": {},
   "outputs": [],
   "source": [
    "df['Like']= df['Like'].replace({'I hate it!-5': '-5','I love it!+5':'+5'})"
   ]
  },
  {
   "cell_type": "markdown",
   "id": "fe2578a3",
   "metadata": {},
   "source": [
    "### Below bar chart gives us an understanding about the number of customers appreciating MCd by giving likes"
   ]
  },
  {
   "cell_type": "code",
   "execution_count": 15,
   "id": "407fcb90",
   "metadata": {},
   "outputs": [
    {
     "data": {
      "image/png": "[encoded data removed]",
      "text/plain": [
       "<Figure size 1872x576 with 1 Axes>"
      ]
     },
     "metadata": {
      "needs_background": "light"
     },
     "output_type": "display_data"
    }
   ],
   "source": [
    "plt.rcParams['figure.figsize']=(26,8)\n",
    "fig = sns.countplot(x=df['Like'])\n",
    "fig.bar_label(fig.containers[0])\n",
    "plt.title(\"Like Distribution\")\n",
    "plt.show()"
   ]
  },
  {
   "cell_type": "code",
   "execution_count": 16,
   "id": "7f418af6",
   "metadata": {},
   "outputs": [
    {
     "data": {
      "text/plain": [
       "+3    229\n",
       "+2    187\n",
       "0     169\n",
       "+4    160\n",
       "+1    152\n",
       "-5    152\n",
       "+5    143\n",
       "-3     73\n",
       "-4     71\n",
       "-2     59\n",
       "-1     58\n",
       "Name: Like, dtype: int64"
      ]
     },
     "execution_count": 16,
     "metadata": {},
     "output_type": "execute_result"
    }
   ],
   "source": [
    "df['Like'].value_counts()"
   ]
  },
  {
   "cell_type": "markdown",
   "id": "75f6d6ab",
   "metadata": {},
   "source": [
    "### For applying any machine learning algorithm it's really necessary to convert the categorical column to numerical"
   ]
  },
  {
   "cell_type": "code",
   "execution_count": 17,
   "id": "6e70ef50",
   "metadata": {},
   "outputs": [],
   "source": [
    "from sklearn.preprocessing import LabelEncoder\n",
    "def labelling(x):\n",
    "    df[x] = LabelEncoder().fit_transform(df[x])\n",
    "    return df"
   ]
  },
  {
   "cell_type": "markdown",
   "id": "dd114f7f",
   "metadata": {},
   "source": [
    "### Here we are creating a list of columns which are categorical and need to apply the created function on it"
   ]
  },
  {
   "cell_type": "code",
   "execution_count": 18,
   "id": "c564258b",
   "metadata": {},
   "outputs": [
    {
     "data": {
      "text/html": [
       "<div>\n",
       "<style scoped>\n",
       "    .dataframe tbody tr th:only-of-type {\n",
       "        vertical-align: middle;\n",
       "    }\n",
       "\n",
       "    .dataframe tbody tr th {\n",
       "        vertical-align: top;\n",
       "    }\n",
       "\n",
       "    .dataframe thead th {\n",
       "        text-align: right;\n",
       "    }\n",
       "</style>\n",
       "<table border=\"1\" class=\"dataframe\">\n",
       "  <thead>\n",
       "    <tr style=\"text-align: right;\">\n",
       "      <th></th>\n",
       "      <th>yummy</th>\n",
       "      <th>convenient</th>\n",
       "      <th>spicy</th>\n",
       "      <th>fattening</th>\n",
       "      <th>greasy</th>\n",
       "      <th>fast</th>\n",
       "      <th>cheap</th>\n",
       "      <th>tasty</th>\n",
       "      <th>expensive</th>\n",
       "      <th>healthy</th>\n",
       "      <th>disgusting</th>\n",
       "      <th>Like</th>\n",
       "      <th>Age</th>\n",
       "      <th>VisitFrequency</th>\n",
       "      <th>Gender</th>\n",
       "    </tr>\n",
       "  </thead>\n",
       "  <tbody>\n",
       "    <tr>\n",
       "      <th>0</th>\n",
       "      <td>0</td>\n",
       "      <td>1</td>\n",
       "      <td>0</td>\n",
       "      <td>1</td>\n",
       "      <td>0</td>\n",
       "      <td>1</td>\n",
       "      <td>1</td>\n",
       "      <td>0</td>\n",
       "      <td>1</td>\n",
       "      <td>0</td>\n",
       "      <td>0</td>\n",
       "      <td>-3</td>\n",
       "      <td>61</td>\n",
       "      <td>Every three months</td>\n",
       "      <td>Female</td>\n",
       "    </tr>\n",
       "    <tr>\n",
       "      <th>1</th>\n",
       "      <td>1</td>\n",
       "      <td>1</td>\n",
       "      <td>0</td>\n",
       "      <td>1</td>\n",
       "      <td>1</td>\n",
       "      <td>1</td>\n",
       "      <td>1</td>\n",
       "      <td>1</td>\n",
       "      <td>1</td>\n",
       "      <td>0</td>\n",
       "      <td>0</td>\n",
       "      <td>+2</td>\n",
       "      <td>51</td>\n",
       "      <td>Every three months</td>\n",
       "      <td>Female</td>\n",
       "    </tr>\n",
       "    <tr>\n",
       "      <th>2</th>\n",
       "      <td>0</td>\n",
       "      <td>1</td>\n",
       "      <td>1</td>\n",
       "      <td>1</td>\n",
       "      <td>1</td>\n",
       "      <td>1</td>\n",
       "      <td>0</td>\n",
       "      <td>1</td>\n",
       "      <td>1</td>\n",
       "      <td>1</td>\n",
       "      <td>0</td>\n",
       "      <td>+1</td>\n",
       "      <td>62</td>\n",
       "      <td>Every three months</td>\n",
       "      <td>Female</td>\n",
       "    </tr>\n",
       "    <tr>\n",
       "      <th>3</th>\n",
       "      <td>1</td>\n",
       "      <td>1</td>\n",
       "      <td>0</td>\n",
       "      <td>1</td>\n",
       "      <td>1</td>\n",
       "      <td>1</td>\n",
       "      <td>1</td>\n",
       "      <td>1</td>\n",
       "      <td>0</td>\n",
       "      <td>0</td>\n",
       "      <td>1</td>\n",
       "      <td>+4</td>\n",
       "      <td>69</td>\n",
       "      <td>Once a week</td>\n",
       "      <td>Female</td>\n",
       "    </tr>\n",
       "    <tr>\n",
       "      <th>4</th>\n",
       "      <td>0</td>\n",
       "      <td>1</td>\n",
       "      <td>0</td>\n",
       "      <td>1</td>\n",
       "      <td>1</td>\n",
       "      <td>1</td>\n",
       "      <td>1</td>\n",
       "      <td>0</td>\n",
       "      <td>0</td>\n",
       "      <td>1</td>\n",
       "      <td>0</td>\n",
       "      <td>+2</td>\n",
       "      <td>49</td>\n",
       "      <td>Once a month</td>\n",
       "      <td>Male</td>\n",
       "    </tr>\n",
       "    <tr>\n",
       "      <th>...</th>\n",
       "      <td>...</td>\n",
       "      <td>...</td>\n",
       "      <td>...</td>\n",
       "      <td>...</td>\n",
       "      <td>...</td>\n",
       "      <td>...</td>\n",
       "      <td>...</td>\n",
       "      <td>...</td>\n",
       "      <td>...</td>\n",
       "      <td>...</td>\n",
       "      <td>...</td>\n",
       "      <td>...</td>\n",
       "      <td>...</td>\n",
       "      <td>...</td>\n",
       "      <td>...</td>\n",
       "    </tr>\n",
       "    <tr>\n",
       "      <th>1448</th>\n",
       "      <td>0</td>\n",
       "      <td>1</td>\n",
       "      <td>0</td>\n",
       "      <td>1</td>\n",
       "      <td>1</td>\n",
       "      <td>0</td>\n",
       "      <td>0</td>\n",
       "      <td>0</td>\n",
       "      <td>1</td>\n",
       "      <td>0</td>\n",
       "      <td>1</td>\n",
       "      <td>-5</td>\n",
       "      <td>47</td>\n",
       "      <td>Once a year</td>\n",
       "      <td>Male</td>\n",
       "    </tr>\n",
       "    <tr>\n",
       "      <th>1449</th>\n",
       "      <td>1</td>\n",
       "      <td>1</td>\n",
       "      <td>0</td>\n",
       "      <td>1</td>\n",
       "      <td>0</td>\n",
       "      <td>0</td>\n",
       "      <td>1</td>\n",
       "      <td>1</td>\n",
       "      <td>0</td>\n",
       "      <td>1</td>\n",
       "      <td>0</td>\n",
       "      <td>+2</td>\n",
       "      <td>36</td>\n",
       "      <td>Once a week</td>\n",
       "      <td>Female</td>\n",
       "    </tr>\n",
       "    <tr>\n",
       "      <th>1450</th>\n",
       "      <td>1</td>\n",
       "      <td>1</td>\n",
       "      <td>0</td>\n",
       "      <td>1</td>\n",
       "      <td>0</td>\n",
       "      <td>1</td>\n",
       "      <td>0</td>\n",
       "      <td>1</td>\n",
       "      <td>1</td>\n",
       "      <td>0</td>\n",
       "      <td>0</td>\n",
       "      <td>+3</td>\n",
       "      <td>52</td>\n",
       "      <td>Once a month</td>\n",
       "      <td>Female</td>\n",
       "    </tr>\n",
       "    <tr>\n",
       "      <th>1451</th>\n",
       "      <td>1</td>\n",
       "      <td>1</td>\n",
       "      <td>0</td>\n",
       "      <td>0</td>\n",
       "      <td>0</td>\n",
       "      <td>1</td>\n",
       "      <td>1</td>\n",
       "      <td>1</td>\n",
       "      <td>0</td>\n",
       "      <td>1</td>\n",
       "      <td>0</td>\n",
       "      <td>+4</td>\n",
       "      <td>41</td>\n",
       "      <td>Every three months</td>\n",
       "      <td>Male</td>\n",
       "    </tr>\n",
       "    <tr>\n",
       "      <th>1452</th>\n",
       "      <td>0</td>\n",
       "      <td>1</td>\n",
       "      <td>0</td>\n",
       "      <td>1</td>\n",
       "      <td>1</td>\n",
       "      <td>0</td>\n",
       "      <td>0</td>\n",
       "      <td>0</td>\n",
       "      <td>1</td>\n",
       "      <td>0</td>\n",
       "      <td>1</td>\n",
       "      <td>-3</td>\n",
       "      <td>30</td>\n",
       "      <td>Every three months</td>\n",
       "      <td>Male</td>\n",
       "    </tr>\n",
       "  </tbody>\n",
       "</table>\n",
       "<p>1453 rows × 15 columns</p>\n",
       "</div>"
      ],
      "text/plain": [
       "      yummy  convenient  spicy  fattening  greasy  fast  cheap  tasty  \\\n",
       "0         0           1      0          1       0     1      1      0   \n",
       "1         1           1      0          1       1     1      1      1   \n",
       "2         0           1      1          1       1     1      0      1   \n",
       "3         1           1      0          1       1     1      1      1   \n",
       "4         0           1      0          1       1     1      1      0   \n",
       "...     ...         ...    ...        ...     ...   ...    ...    ...   \n",
       "1448      0           1      0          1       1     0      0      0   \n",
       "1449      1           1      0          1       0     0      1      1   \n",
       "1450      1           1      0          1       0     1      0      1   \n",
       "1451      1           1      0          0       0     1      1      1   \n",
       "1452      0           1      0          1       1     0      0      0   \n",
       "\n",
       "      expensive  healthy  disgusting Like  Age      VisitFrequency  Gender  \n",
       "0             1        0           0   -3   61  Every three months  Female  \n",
       "1             1        0           0   +2   51  Every three months  Female  \n",
       "2             1        1           0   +1   62  Every three months  Female  \n",
       "3             0        0           1   +4   69         Once a week  Female  \n",
       "4             0        1           0   +2   49        Once a month    Male  \n",
       "...         ...      ...         ...  ...  ...                 ...     ...  \n",
       "1448          1        0           1   -5   47         Once a year    Male  \n",
       "1449          0        1           0   +2   36         Once a week  Female  \n",
       "1450          1        0           0   +3   52        Once a month  Female  \n",
       "1451          0        1           0   +4   41  Every three months    Male  \n",
       "1452          1        0           1   -3   30  Every three months    Male  \n",
       "\n",
       "[1453 rows x 15 columns]"
      ]
     },
     "execution_count": 18,
     "metadata": {},
     "output_type": "execute_result"
    }
   ],
   "source": [
    "categorical_val = ['yummy', 'convenient', 'spicy', 'fattening', 'greasy', 'fast', 'cheap',\n",
    "       'tasty', 'expensive', 'healthy', 'disgusting']\n",
    "\n",
    "for i in categorical_val:\n",
    "    labelling(i)\n",
    "df"
   ]
  },
  {
   "cell_type": "markdown",
   "id": "4f941009",
   "metadata": {},
   "source": [
    "### From the barchart we can clearly visualize that the columns are divided into 0's and 1's instead of no and yes."
   ]
  },
  {
   "cell_type": "code",
   "execution_count": 19,
   "id": "cc5a34ba",
   "metadata": {},
   "outputs": [
    {
     "data": {
      "image/png": "[encoded data removed]",
      "text/plain": [
       "<Figure size 864x1008 with 12 Axes>"
      ]
     },
     "metadata": {
      "needs_background": "light"
     },
     "output_type": "display_data"
    }
   ],
   "source": [
    "plt.rcParams['figure.figsize'] = (12,14)\n",
    "df.hist()\n",
    "plt.show()"
   ]
  },
  {
   "cell_type": "markdown",
   "id": "7c8d89d1",
   "metadata": {},
   "source": [
    "### Here we are creating a new data frame which will hold only the categorical columns which we previously converted into numerical"
   ]
  },
  {
   "cell_type": "code",
   "execution_count": 20,
   "id": "fcc1bc59",
   "metadata": {},
   "outputs": [
    {
     "data": {
      "text/html": [
       "<div>\n",
       "<style scoped>\n",
       "    .dataframe tbody tr th:only-of-type {\n",
       "        vertical-align: middle;\n",
       "    }\n",
       "\n",
       "    .dataframe tbody tr th {\n",
       "        vertical-align: top;\n",
       "    }\n",
       "\n",
       "    .dataframe thead th {\n",
       "        text-align: right;\n",
       "    }\n",
       "</style>\n",
       "<table border=\"1\" class=\"dataframe\">\n",
       "  <thead>\n",
       "    <tr style=\"text-align: right;\">\n",
       "      <th></th>\n",
       "      <th>yummy</th>\n",
       "      <th>convenient</th>\n",
       "      <th>spicy</th>\n",
       "      <th>fattening</th>\n",
       "      <th>greasy</th>\n",
       "      <th>fast</th>\n",
       "      <th>cheap</th>\n",
       "      <th>tasty</th>\n",
       "      <th>expensive</th>\n",
       "      <th>healthy</th>\n",
       "      <th>disgusting</th>\n",
       "    </tr>\n",
       "  </thead>\n",
       "  <tbody>\n",
       "    <tr>\n",
       "      <th>0</th>\n",
       "      <td>0</td>\n",
       "      <td>1</td>\n",
       "      <td>0</td>\n",
       "      <td>1</td>\n",
       "      <td>0</td>\n",
       "      <td>1</td>\n",
       "      <td>1</td>\n",
       "      <td>0</td>\n",
       "      <td>1</td>\n",
       "      <td>0</td>\n",
       "      <td>0</td>\n",
       "    </tr>\n",
       "    <tr>\n",
       "      <th>1</th>\n",
       "      <td>1</td>\n",
       "      <td>1</td>\n",
       "      <td>0</td>\n",
       "      <td>1</td>\n",
       "      <td>1</td>\n",
       "      <td>1</td>\n",
       "      <td>1</td>\n",
       "      <td>1</td>\n",
       "      <td>1</td>\n",
       "      <td>0</td>\n",
       "      <td>0</td>\n",
       "    </tr>\n",
       "    <tr>\n",
       "      <th>2</th>\n",
       "      <td>0</td>\n",
       "      <td>1</td>\n",
       "      <td>1</td>\n",
       "      <td>1</td>\n",
       "      <td>1</td>\n",
       "      <td>1</td>\n",
       "      <td>0</td>\n",
       "      <td>1</td>\n",
       "      <td>1</td>\n",
       "      <td>1</td>\n",
       "      <td>0</td>\n",
       "    </tr>\n",
       "    <tr>\n",
       "      <th>3</th>\n",
       "      <td>1</td>\n",
       "      <td>1</td>\n",
       "      <td>0</td>\n",
       "      <td>1</td>\n",
       "      <td>1</td>\n",
       "      <td>1</td>\n",
       "      <td>1</td>\n",
       "      <td>1</td>\n",
       "      <td>0</td>\n",
       "      <td>0</td>\n",
       "      <td>1</td>\n",
       "    </tr>\n",
       "    <tr>\n",
       "      <th>4</th>\n",
       "      <td>0</td>\n",
       "      <td>1</td>\n",
       "      <td>0</td>\n",
       "      <td>1</td>\n",
       "      <td>1</td>\n",
       "      <td>1</td>\n",
       "      <td>1</td>\n",
       "      <td>0</td>\n",
       "      <td>0</td>\n",
       "      <td>1</td>\n",
       "      <td>0</td>\n",
       "    </tr>\n",
       "    <tr>\n",
       "      <th>...</th>\n",
       "      <td>...</td>\n",
       "      <td>...</td>\n",
       "      <td>...</td>\n",
       "      <td>...</td>\n",
       "      <td>...</td>\n",
       "      <td>...</td>\n",
       "      <td>...</td>\n",
       "      <td>...</td>\n",
       "      <td>...</td>\n",
       "      <td>...</td>\n",
       "      <td>...</td>\n",
       "    </tr>\n",
       "    <tr>\n",
       "      <th>1448</th>\n",
       "      <td>0</td>\n",
       "      <td>1</td>\n",
       "      <td>0</td>\n",
       "      <td>1</td>\n",
       "      <td>1</td>\n",
       "      <td>0</td>\n",
       "      <td>0</td>\n",
       "      <td>0</td>\n",
       "      <td>1</td>\n",
       "      <td>0</td>\n",
       "      <td>1</td>\n",
       "    </tr>\n",
       "    <tr>\n",
       "      <th>1449</th>\n",
       "      <td>1</td>\n",
       "      <td>1</td>\n",
       "      <td>0</td>\n",
       "      <td>1</td>\n",
       "      <td>0</td>\n",
       "      <td>0</td>\n",
       "      <td>1</td>\n",
       "      <td>1</td>\n",
       "      <td>0</td>\n",
       "      <td>1</td>\n",
       "      <td>0</td>\n",
       "    </tr>\n",
       "    <tr>\n",
       "      <th>1450</th>\n",
       "      <td>1</td>\n",
       "      <td>1</td>\n",
       "      <td>0</td>\n",
       "      <td>1</td>\n",
       "      <td>0</td>\n",
       "      <td>1</td>\n",
       "      <td>0</td>\n",
       "      <td>1</td>\n",
       "      <td>1</td>\n",
       "      <td>0</td>\n",
       "      <td>0</td>\n",
       "    </tr>\n",
       "    <tr>\n",
       "      <th>1451</th>\n",
       "      <td>1</td>\n",
       "      <td>1</td>\n",
       "      <td>0</td>\n",
       "      <td>0</td>\n",
       "      <td>0</td>\n",
       "      <td>1</td>\n",
       "      <td>1</td>\n",
       "      <td>1</td>\n",
       "      <td>0</td>\n",
       "      <td>1</td>\n",
       "      <td>0</td>\n",
       "    </tr>\n",
       "    <tr>\n",
       "      <th>1452</th>\n",
       "      <td>0</td>\n",
       "      <td>1</td>\n",
       "      <td>0</td>\n",
       "      <td>1</td>\n",
       "      <td>1</td>\n",
       "      <td>0</td>\n",
       "      <td>0</td>\n",
       "      <td>0</td>\n",
       "      <td>1</td>\n",
       "      <td>0</td>\n",
       "      <td>1</td>\n",
       "    </tr>\n",
       "  </tbody>\n",
       "</table>\n",
       "<p>1453 rows × 11 columns</p>\n",
       "</div>"
      ],
      "text/plain": [
       "      yummy  convenient  spicy  fattening  greasy  fast  cheap  tasty  \\\n",
       "0         0           1      0          1       0     1      1      0   \n",
       "1         1           1      0          1       1     1      1      1   \n",
       "2         0           1      1          1       1     1      0      1   \n",
       "3         1           1      0          1       1     1      1      1   \n",
       "4         0           1      0          1       1     1      1      0   \n",
       "...     ...         ...    ...        ...     ...   ...    ...    ...   \n",
       "1448      0           1      0          1       1     0      0      0   \n",
       "1449      1           1      0          1       0     0      1      1   \n",
       "1450      1           1      0          1       0     1      0      1   \n",
       "1451      1           1      0          0       0     1      1      1   \n",
       "1452      0           1      0          1       1     0      0      0   \n",
       "\n",
       "      expensive  healthy  disgusting  \n",
       "0             1        0           0  \n",
       "1             1        0           0  \n",
       "2             1        1           0  \n",
       "3             0        0           1  \n",
       "4             0        1           0  \n",
       "...         ...      ...         ...  \n",
       "1448          1        0           1  \n",
       "1449          0        1           0  \n",
       "1450          1        0           0  \n",
       "1451          0        1           0  \n",
       "1452          1        0           1  \n",
       "\n",
       "[1453 rows x 11 columns]"
      ]
     },
     "execution_count": 20,
     "metadata": {},
     "output_type": "execute_result"
    }
   ],
   "source": [
    "df_new = df.loc[:,categorical_val]\n",
    "df_new"
   ]
  },
  {
   "cell_type": "code",
   "execution_count": 21,
   "id": "00f1367f",
   "metadata": {},
   "outputs": [
    {
     "data": {
      "text/plain": [
       "array([[0, 1, 0, ..., 1, 0, 0],\n",
       "       [1, 1, 0, ..., 1, 0, 0],\n",
       "       [0, 1, 1, ..., 1, 1, 0],\n",
       "       ...,\n",
       "       [1, 1, 0, ..., 1, 0, 0],\n",
       "       [1, 1, 0, ..., 0, 1, 0],\n",
       "       [0, 1, 0, ..., 1, 0, 1]])"
      ]
     },
     "execution_count": 21,
     "metadata": {},
     "output_type": "execute_result"
    }
   ],
   "source": [
    "df_new_array = df.loc[:,categorical_val].values\n",
    "df_new_array"
   ]
  },
  {
   "cell_type": "markdown",
   "id": "2b4bc8ac",
   "metadata": {},
   "source": [
    "### Importing the libraries for PCA"
   ]
  },
  {
   "cell_type": "code",
   "execution_count": 22,
   "id": "9bed47d2",
   "metadata": {},
   "outputs": [],
   "source": [
    "from sklearn.decomposition import PCA\n",
    "from sklearn import preprocessing"
   ]
  },
  {
   "cell_type": "markdown",
   "id": "00c0cc97",
   "metadata": {},
   "source": [
    "### PCA is really plays a vital role when we don't know the similarity between the columns or how close one column is to one other."
   ]
  },
  {
   "cell_type": "code",
   "execution_count": 23,
   "id": "acd6320c",
   "metadata": {},
   "outputs": [
    {
     "data": {
      "text/html": [
       "<div>\n",
       "<style scoped>\n",
       "    .dataframe tbody tr th:only-of-type {\n",
       "        vertical-align: middle;\n",
       "    }\n",
       "\n",
       "    .dataframe tbody tr th {\n",
       "        vertical-align: top;\n",
       "    }\n",
       "\n",
       "    .dataframe thead th {\n",
       "        text-align: right;\n",
       "    }\n",
       "</style>\n",
       "<table border=\"1\" class=\"dataframe\">\n",
       "  <thead>\n",
       "    <tr style=\"text-align: right;\">\n",
       "      <th></th>\n",
       "      <th>pc1</th>\n",
       "      <th>pc2</th>\n",
       "      <th>pc3</th>\n",
       "      <th>pc4</th>\n",
       "      <th>pc5</th>\n",
       "      <th>pc6</th>\n",
       "      <th>pc7</th>\n",
       "      <th>pc8</th>\n",
       "      <th>pc9</th>\n",
       "      <th>pc10</th>\n",
       "      <th>pc11</th>\n",
       "    </tr>\n",
       "  </thead>\n",
       "  <tbody>\n",
       "    <tr>\n",
       "      <th>0</th>\n",
       "      <td>0.425367</td>\n",
       "      <td>-0.219079</td>\n",
       "      <td>0.663255</td>\n",
       "      <td>-0.401300</td>\n",
       "      <td>0.201705</td>\n",
       "      <td>-0.389767</td>\n",
       "      <td>-0.211982</td>\n",
       "      <td>0.163235</td>\n",
       "      <td>0.181007</td>\n",
       "      <td>0.515706</td>\n",
       "      <td>-0.567074</td>\n",
       "    </tr>\n",
       "    <tr>\n",
       "      <th>1</th>\n",
       "      <td>-0.218638</td>\n",
       "      <td>0.388190</td>\n",
       "      <td>-0.730827</td>\n",
       "      <td>-0.094724</td>\n",
       "      <td>0.044669</td>\n",
       "      <td>-0.086596</td>\n",
       "      <td>-0.095877</td>\n",
       "      <td>-0.034756</td>\n",
       "      <td>0.111476</td>\n",
       "      <td>0.493313</td>\n",
       "      <td>-0.500440</td>\n",
       "    </tr>\n",
       "    <tr>\n",
       "      <th>2</th>\n",
       "      <td>0.375415</td>\n",
       "      <td>0.730435</td>\n",
       "      <td>-0.122040</td>\n",
       "      <td>0.692262</td>\n",
       "      <td>0.839643</td>\n",
       "      <td>-0.687406</td>\n",
       "      <td>0.583112</td>\n",
       "      <td>0.364379</td>\n",
       "      <td>-0.322288</td>\n",
       "      <td>0.061759</td>\n",
       "      <td>0.242741</td>\n",
       "    </tr>\n",
       "    <tr>\n",
       "      <th>3</th>\n",
       "      <td>-0.172926</td>\n",
       "      <td>-0.352752</td>\n",
       "      <td>-0.843795</td>\n",
       "      <td>0.206998</td>\n",
       "      <td>-0.681415</td>\n",
       "      <td>-0.036133</td>\n",
       "      <td>-0.054284</td>\n",
       "      <td>-0.231477</td>\n",
       "      <td>-0.028003</td>\n",
       "      <td>-0.250678</td>\n",
       "      <td>-0.051034</td>\n",
       "    </tr>\n",
       "    <tr>\n",
       "      <th>4</th>\n",
       "      <td>0.187057</td>\n",
       "      <td>-0.807610</td>\n",
       "      <td>0.028537</td>\n",
       "      <td>0.548332</td>\n",
       "      <td>0.854074</td>\n",
       "      <td>-0.097305</td>\n",
       "      <td>-0.457043</td>\n",
       "      <td>0.171758</td>\n",
       "      <td>-0.074409</td>\n",
       "      <td>0.031897</td>\n",
       "      <td>0.082245</td>\n",
       "    </tr>\n",
       "    <tr>\n",
       "      <th>...</th>\n",
       "      <td>...</td>\n",
       "      <td>...</td>\n",
       "      <td>...</td>\n",
       "      <td>...</td>\n",
       "      <td>...</td>\n",
       "      <td>...</td>\n",
       "      <td>...</td>\n",
       "      <td>...</td>\n",
       "      <td>...</td>\n",
       "      <td>...</td>\n",
       "      <td>...</td>\n",
       "    </tr>\n",
       "    <tr>\n",
       "      <th>1448</th>\n",
       "      <td>1.550242</td>\n",
       "      <td>0.275031</td>\n",
       "      <td>-0.013737</td>\n",
       "      <td>0.200604</td>\n",
       "      <td>-0.145063</td>\n",
       "      <td>0.306575</td>\n",
       "      <td>-0.075308</td>\n",
       "      <td>0.345552</td>\n",
       "      <td>-0.136589</td>\n",
       "      <td>-0.432798</td>\n",
       "      <td>-0.456076</td>\n",
       "    </tr>\n",
       "    <tr>\n",
       "      <th>1449</th>\n",
       "      <td>-0.957339</td>\n",
       "      <td>0.014308</td>\n",
       "      <td>0.303843</td>\n",
       "      <td>0.444350</td>\n",
       "      <td>-0.133690</td>\n",
       "      <td>0.381804</td>\n",
       "      <td>-0.326432</td>\n",
       "      <td>0.878047</td>\n",
       "      <td>-0.304441</td>\n",
       "      <td>-0.247443</td>\n",
       "      <td>-0.193671</td>\n",
       "    </tr>\n",
       "    <tr>\n",
       "      <th>1450</th>\n",
       "      <td>-0.185894</td>\n",
       "      <td>1.062662</td>\n",
       "      <td>0.220857</td>\n",
       "      <td>-0.467643</td>\n",
       "      <td>-0.187757</td>\n",
       "      <td>-0.192703</td>\n",
       "      <td>-0.091597</td>\n",
       "      <td>-0.036576</td>\n",
       "      <td>0.038255</td>\n",
       "      <td>0.056518</td>\n",
       "      <td>-0.012800</td>\n",
       "    </tr>\n",
       "    <tr>\n",
       "      <th>1451</th>\n",
       "      <td>-1.182064</td>\n",
       "      <td>-0.038570</td>\n",
       "      <td>0.561561</td>\n",
       "      <td>0.701126</td>\n",
       "      <td>0.047645</td>\n",
       "      <td>0.193687</td>\n",
       "      <td>-0.027335</td>\n",
       "      <td>-0.339374</td>\n",
       "      <td>0.022267</td>\n",
       "      <td>-0.002573</td>\n",
       "      <td>-0.105316</td>\n",
       "    </tr>\n",
       "    <tr>\n",
       "      <th>1452</th>\n",
       "      <td>1.550242</td>\n",
       "      <td>0.275031</td>\n",
       "      <td>-0.013737</td>\n",
       "      <td>0.200604</td>\n",
       "      <td>-0.145063</td>\n",
       "      <td>0.306575</td>\n",
       "      <td>-0.075308</td>\n",
       "      <td>0.345552</td>\n",
       "      <td>-0.136589</td>\n",
       "      <td>-0.432798</td>\n",
       "      <td>-0.456076</td>\n",
       "    </tr>\n",
       "  </tbody>\n",
       "</table>\n",
       "<p>1453 rows × 11 columns</p>\n",
       "</div>"
      ],
      "text/plain": [
       "           pc1       pc2       pc3       pc4       pc5       pc6       pc7  \\\n",
       "0     0.425367 -0.219079  0.663255 -0.401300  0.201705 -0.389767 -0.211982   \n",
       "1    -0.218638  0.388190 -0.730827 -0.094724  0.044669 -0.086596 -0.095877   \n",
       "2     0.375415  0.730435 -0.122040  0.692262  0.839643 -0.687406  0.583112   \n",
       "3    -0.172926 -0.352752 -0.843795  0.206998 -0.681415 -0.036133 -0.054284   \n",
       "4     0.187057 -0.807610  0.028537  0.548332  0.854074 -0.097305 -0.457043   \n",
       "...        ...       ...       ...       ...       ...       ...       ...   \n",
       "1448  1.550242  0.275031 -0.013737  0.200604 -0.145063  0.306575 -0.075308   \n",
       "1449 -0.957339  0.014308  0.303843  0.444350 -0.133690  0.381804 -0.326432   \n",
       "1450 -0.185894  1.062662  0.220857 -0.467643 -0.187757 -0.192703 -0.091597   \n",
       "1451 -1.182064 -0.038570  0.561561  0.701126  0.047645  0.193687 -0.027335   \n",
       "1452  1.550242  0.275031 -0.013737  0.200604 -0.145063  0.306575 -0.075308   \n",
       "\n",
       "           pc8       pc9      pc10      pc11  \n",
       "0     0.163235  0.181007  0.515706 -0.567074  \n",
       "1    -0.034756  0.111476  0.493313 -0.500440  \n",
       "2     0.364379 -0.322288  0.061759  0.242741  \n",
       "3    -0.231477 -0.028003 -0.250678 -0.051034  \n",
       "4     0.171758 -0.074409  0.031897  0.082245  \n",
       "...        ...       ...       ...       ...  \n",
       "1448  0.345552 -0.136589 -0.432798 -0.456076  \n",
       "1449  0.878047 -0.304441 -0.247443 -0.193671  \n",
       "1450 -0.036576  0.038255  0.056518 -0.012800  \n",
       "1451 -0.339374  0.022267 -0.002573 -0.105316  \n",
       "1452  0.345552 -0.136589 -0.432798 -0.456076  \n",
       "\n",
       "[1453 rows x 11 columns]"
      ]
     },
     "execution_count": 23,
     "metadata": {},
     "output_type": "execute_result"
    }
   ],
   "source": [
    "pca_Data = preprocessing.scale(df_new_array)\n",
    "pca = PCA(n_components=11)\n",
    "pca_new = pca.fit_transform(df_new_array)\n",
    "names = ['pc1','pc2','pc3','pc4','pc5','pc6','pc7','pc8','pc9','pc10','pc11']\n",
    "pf = pd.DataFrame(data = pca_new, columns = names)\n",
    "pf"
   ]
  },
  {
   "cell_type": "code",
   "execution_count": 24,
   "id": "534e0816",
   "metadata": {},
   "outputs": [
    {
     "data": {
      "text/plain": [
       "array([[-0.47693349, -0.15533159, -0.00635636,  0.11623168,  0.3044427 ,\n",
       "        -0.10849325, -0.33718593, -0.47151394,  0.32904173, -0.21371062,\n",
       "         0.37475293],\n",
       "       [ 0.36378978,  0.016414  ,  0.01880869, -0.03409395, -0.06383884,\n",
       "        -0.0869722 , -0.61063276,  0.3073178 ,  0.60128596,  0.07659344,\n",
       "        -0.13965633],\n",
       "       [-0.30444402, -0.0625153 , -0.03701866, -0.32235949, -0.80237317,\n",
       "        -0.06464172, -0.14931026, -0.28726479,  0.02439661,  0.19205128,\n",
       "        -0.08857138],\n",
       "       [ 0.0551622 , -0.14242496,  0.19761927, -0.35413876,  0.2539601 ,\n",
       "        -0.09736269,  0.11895823, -0.00254696,  0.06781599,  0.76348804,\n",
       "         0.36953871],\n",
       "       [-0.30753507,  0.27760805,  0.07062017, -0.07340475,  0.36139895,\n",
       "         0.10793025, -0.12897259, -0.21089912, -0.00312457,  0.28784553,\n",
       "        -0.72920859],\n",
       "       [ 0.17073819, -0.34783006, -0.3550866 , -0.40651542,  0.20934711,\n",
       "        -0.59463206, -0.10324067, -0.07691443, -0.26134151, -0.17822612,\n",
       "        -0.21087805],\n",
       "       [-0.28051863, -0.05973793,  0.70763705, -0.38594277,  0.03616962,\n",
       "        -0.08684577, -0.04044934,  0.36045348, -0.06838452, -0.34961569,\n",
       "        -0.02679159],\n",
       "       [ 0.01304117, -0.11307868,  0.37593402,  0.58962241, -0.13824084,\n",
       "        -0.62779877,  0.14006047, -0.07279193,  0.02953939,  0.17630281,\n",
       "        -0.16718101],\n",
       "       [ 0.57240278, -0.01846534,  0.40027977, -0.16051227, -0.00284738,\n",
       "         0.16619659,  0.07606907, -0.63908592,  0.06699639, -0.1855722 ,\n",
       "        -0.07248255],\n",
       "       [-0.11028437, -0.66581756, -0.07563413, -0.00533813,  0.00870725,\n",
       "         0.23953197,  0.42808739,  0.0791838 ,  0.45439925, -0.03811713,\n",
       "        -0.28959188],\n",
       "       [ 0.04543901, -0.54161635,  0.14172992,  0.25090987,  0.00164229,\n",
       "         0.33926454, -0.48928285,  0.01955226, -0.49006853,  0.15760765,\n",
       "        -0.04066227]])"
      ]
     },
     "execution_count": 24,
     "metadata": {},
     "output_type": "execute_result"
    }
   ],
   "source": [
    "pca.components_"
   ]
  },
  {
   "cell_type": "code",
   "execution_count": 25,
   "id": "2b1fcbd1",
   "metadata": {},
   "outputs": [
    {
     "data": {
      "text/html": [
       "<div>\n",
       "<style scoped>\n",
       "    .dataframe tbody tr th:only-of-type {\n",
       "        vertical-align: middle;\n",
       "    }\n",
       "\n",
       "    .dataframe tbody tr th {\n",
       "        vertical-align: top;\n",
       "    }\n",
       "\n",
       "    .dataframe thead th {\n",
       "        text-align: right;\n",
       "    }\n",
       "</style>\n",
       "<table border=\"1\" class=\"dataframe\">\n",
       "  <thead>\n",
       "    <tr style=\"text-align: right;\">\n",
       "      <th></th>\n",
       "      <th>PC1</th>\n",
       "      <th>PC2</th>\n",
       "      <th>PC3</th>\n",
       "      <th>PC4</th>\n",
       "      <th>PC5</th>\n",
       "      <th>PC6</th>\n",
       "      <th>PC7</th>\n",
       "      <th>PC8</th>\n",
       "      <th>PC9</th>\n",
       "      <th>PC10</th>\n",
       "      <th>PC11</th>\n",
       "    </tr>\n",
       "    <tr>\n",
       "      <th>variable</th>\n",
       "      <th></th>\n",
       "      <th></th>\n",
       "      <th></th>\n",
       "      <th></th>\n",
       "      <th></th>\n",
       "      <th></th>\n",
       "      <th></th>\n",
       "      <th></th>\n",
       "      <th></th>\n",
       "      <th></th>\n",
       "      <th></th>\n",
       "    </tr>\n",
       "  </thead>\n",
       "  <tbody>\n",
       "    <tr>\n",
       "      <th>yummy</th>\n",
       "      <td>-0.476933</td>\n",
       "      <td>0.363790</td>\n",
       "      <td>-0.304444</td>\n",
       "      <td>0.055162</td>\n",
       "      <td>-0.307535</td>\n",
       "      <td>0.170738</td>\n",
       "      <td>-0.280519</td>\n",
       "      <td>0.013041</td>\n",
       "      <td>0.572403</td>\n",
       "      <td>-0.110284</td>\n",
       "      <td>0.045439</td>\n",
       "    </tr>\n",
       "    <tr>\n",
       "      <th>convenient</th>\n",
       "      <td>-0.155332</td>\n",
       "      <td>0.016414</td>\n",
       "      <td>-0.062515</td>\n",
       "      <td>-0.142425</td>\n",
       "      <td>0.277608</td>\n",
       "      <td>-0.347830</td>\n",
       "      <td>-0.059738</td>\n",
       "      <td>-0.113079</td>\n",
       "      <td>-0.018465</td>\n",
       "      <td>-0.665818</td>\n",
       "      <td>-0.541616</td>\n",
       "    </tr>\n",
       "    <tr>\n",
       "      <th>spicy</th>\n",
       "      <td>-0.006356</td>\n",
       "      <td>0.018809</td>\n",
       "      <td>-0.037019</td>\n",
       "      <td>0.197619</td>\n",
       "      <td>0.070620</td>\n",
       "      <td>-0.355087</td>\n",
       "      <td>0.707637</td>\n",
       "      <td>0.375934</td>\n",
       "      <td>0.400280</td>\n",
       "      <td>-0.075634</td>\n",
       "      <td>0.141730</td>\n",
       "    </tr>\n",
       "    <tr>\n",
       "      <th>fattening</th>\n",
       "      <td>0.116232</td>\n",
       "      <td>-0.034094</td>\n",
       "      <td>-0.322359</td>\n",
       "      <td>-0.354139</td>\n",
       "      <td>-0.073405</td>\n",
       "      <td>-0.406515</td>\n",
       "      <td>-0.385943</td>\n",
       "      <td>0.589622</td>\n",
       "      <td>-0.160512</td>\n",
       "      <td>-0.005338</td>\n",
       "      <td>0.250910</td>\n",
       "    </tr>\n",
       "    <tr>\n",
       "      <th>greasy</th>\n",
       "      <td>0.304443</td>\n",
       "      <td>-0.063839</td>\n",
       "      <td>-0.802373</td>\n",
       "      <td>0.253960</td>\n",
       "      <td>0.361399</td>\n",
       "      <td>0.209347</td>\n",
       "      <td>0.036170</td>\n",
       "      <td>-0.138241</td>\n",
       "      <td>-0.002847</td>\n",
       "      <td>0.008707</td>\n",
       "      <td>0.001642</td>\n",
       "    </tr>\n",
       "    <tr>\n",
       "      <th>fast</th>\n",
       "      <td>-0.108493</td>\n",
       "      <td>-0.086972</td>\n",
       "      <td>-0.064642</td>\n",
       "      <td>-0.097363</td>\n",
       "      <td>0.107930</td>\n",
       "      <td>-0.594632</td>\n",
       "      <td>-0.086846</td>\n",
       "      <td>-0.627799</td>\n",
       "      <td>0.166197</td>\n",
       "      <td>0.239532</td>\n",
       "      <td>0.339265</td>\n",
       "    </tr>\n",
       "    <tr>\n",
       "      <th>cheap</th>\n",
       "      <td>-0.337186</td>\n",
       "      <td>-0.610633</td>\n",
       "      <td>-0.149310</td>\n",
       "      <td>0.118958</td>\n",
       "      <td>-0.128973</td>\n",
       "      <td>-0.103241</td>\n",
       "      <td>-0.040449</td>\n",
       "      <td>0.140060</td>\n",
       "      <td>0.076069</td>\n",
       "      <td>0.428087</td>\n",
       "      <td>-0.489283</td>\n",
       "    </tr>\n",
       "    <tr>\n",
       "      <th>tasty</th>\n",
       "      <td>-0.471514</td>\n",
       "      <td>0.307318</td>\n",
       "      <td>-0.287265</td>\n",
       "      <td>-0.002547</td>\n",
       "      <td>-0.210899</td>\n",
       "      <td>-0.076914</td>\n",
       "      <td>0.360453</td>\n",
       "      <td>-0.072792</td>\n",
       "      <td>-0.639086</td>\n",
       "      <td>0.079184</td>\n",
       "      <td>0.019552</td>\n",
       "    </tr>\n",
       "    <tr>\n",
       "      <th>expensive</th>\n",
       "      <td>0.329042</td>\n",
       "      <td>0.601286</td>\n",
       "      <td>0.024397</td>\n",
       "      <td>0.067816</td>\n",
       "      <td>-0.003125</td>\n",
       "      <td>-0.261342</td>\n",
       "      <td>-0.068385</td>\n",
       "      <td>0.029539</td>\n",
       "      <td>0.066996</td>\n",
       "      <td>0.454399</td>\n",
       "      <td>-0.490069</td>\n",
       "    </tr>\n",
       "    <tr>\n",
       "      <th>healthy</th>\n",
       "      <td>-0.213711</td>\n",
       "      <td>0.076593</td>\n",
       "      <td>0.192051</td>\n",
       "      <td>0.763488</td>\n",
       "      <td>0.287846</td>\n",
       "      <td>-0.178226</td>\n",
       "      <td>-0.349616</td>\n",
       "      <td>0.176303</td>\n",
       "      <td>-0.185572</td>\n",
       "      <td>-0.038117</td>\n",
       "      <td>0.157608</td>\n",
       "    </tr>\n",
       "    <tr>\n",
       "      <th>disgusting</th>\n",
       "      <td>0.374753</td>\n",
       "      <td>-0.139656</td>\n",
       "      <td>-0.088571</td>\n",
       "      <td>0.369539</td>\n",
       "      <td>-0.729209</td>\n",
       "      <td>-0.210878</td>\n",
       "      <td>-0.026792</td>\n",
       "      <td>-0.167181</td>\n",
       "      <td>-0.072483</td>\n",
       "      <td>-0.289592</td>\n",
       "      <td>-0.040662</td>\n",
       "    </tr>\n",
       "  </tbody>\n",
       "</table>\n",
       "</div>"
      ],
      "text/plain": [
       "                 PC1       PC2       PC3       PC4       PC5       PC6  \\\n",
       "variable                                                                 \n",
       "yummy      -0.476933  0.363790 -0.304444  0.055162 -0.307535  0.170738   \n",
       "convenient -0.155332  0.016414 -0.062515 -0.142425  0.277608 -0.347830   \n",
       "spicy      -0.006356  0.018809 -0.037019  0.197619  0.070620 -0.355087   \n",
       "fattening   0.116232 -0.034094 -0.322359 -0.354139 -0.073405 -0.406515   \n",
       "greasy      0.304443 -0.063839 -0.802373  0.253960  0.361399  0.209347   \n",
       "fast       -0.108493 -0.086972 -0.064642 -0.097363  0.107930 -0.594632   \n",
       "cheap      -0.337186 -0.610633 -0.149310  0.118958 -0.128973 -0.103241   \n",
       "tasty      -0.471514  0.307318 -0.287265 -0.002547 -0.210899 -0.076914   \n",
       "expensive   0.329042  0.601286  0.024397  0.067816 -0.003125 -0.261342   \n",
       "healthy    -0.213711  0.076593  0.192051  0.763488  0.287846 -0.178226   \n",
       "disgusting  0.374753 -0.139656 -0.088571  0.369539 -0.729209 -0.210878   \n",
       "\n",
       "                 PC7       PC8       PC9      PC10      PC11  \n",
       "variable                                                      \n",
       "yummy      -0.280519  0.013041  0.572403 -0.110284  0.045439  \n",
       "convenient -0.059738 -0.113079 -0.018465 -0.665818 -0.541616  \n",
       "spicy       0.707637  0.375934  0.400280 -0.075634  0.141730  \n",
       "fattening  -0.385943  0.589622 -0.160512 -0.005338  0.250910  \n",
       "greasy      0.036170 -0.138241 -0.002847  0.008707  0.001642  \n",
       "fast       -0.086846 -0.627799  0.166197  0.239532  0.339265  \n",
       "cheap      -0.040449  0.140060  0.076069  0.428087 -0.489283  \n",
       "tasty       0.360453 -0.072792 -0.639086  0.079184  0.019552  \n",
       "expensive  -0.068385  0.029539  0.066996  0.454399 -0.490069  \n",
       "healthy    -0.349616  0.176303 -0.185572 -0.038117  0.157608  \n",
       "disgusting -0.026792 -0.167181 -0.072483 -0.289592 -0.040662  "
      ]
     },
     "execution_count": 25,
     "metadata": {},
     "output_type": "execute_result"
    }
   ],
   "source": [
    "loadings = pca.components_\n",
    "num_pc = pca.n_features_\n",
    "pc_list = [\"PC\"+str(i) for i in list(range(1, num_pc+1))]\n",
    "loadings_df = pd.DataFrame.from_dict(dict(zip(pc_list, loadings)))\n",
    "loadings_df['variable'] = df_new.columns.values\n",
    "loadings_df = loadings_df.set_index('variable')\n",
    "loadings_df"
   ]
  },
  {
   "cell_type": "code",
   "execution_count": 26,
   "id": "776fed5e",
   "metadata": {},
   "outputs": [
    {
     "data": {
      "image/png": "[encoded data removed]",
      "text/plain": [
       "<Figure size 864x1008 with 2 Axes>"
      ]
     },
     "metadata": {
      "needs_background": "light"
     },
     "output_type": "display_data"
    }
   ],
   "source": [
    "sns.heatmap(loadings_df, annot=True, cmap='Blues')\n",
    "plt.show()"
   ]
  },
  {
   "cell_type": "markdown",
   "id": "bfe9b468",
   "metadata": {},
   "source": [
    "### We are importing the machine learning algorithm Kmeans for clustering the data"
   ]
  },
  {
   "cell_type": "code",
   "execution_count": 27,
   "id": "256f0ecd",
   "metadata": {
    "scrolled": true
   },
   "outputs": [],
   "source": [
    "from sklearn.cluster import KMeans\n",
    "wcss = []\n",
    "data = df_new\n",
    "for i in range(1,12):\n",
    "    kmeans = KMeans(n_clusters=i)\n",
    "    kmeans.fit(data)\n",
    "    wcss.append(kmeans.inertia_)"
   ]
  },
  {
   "cell_type": "markdown",
   "id": "bdefd248",
   "metadata": {},
   "source": [
    "### We need to use elbow method for understanding how many clusters can give us better result"
   ]
  },
  {
   "cell_type": "code",
   "execution_count": 28,
   "id": "3104bda6",
   "metadata": {},
   "outputs": [
    {
     "data": {
      "image/png": "[encoded data removed]",
      "text/plain": [
       "<Figure size 1080x360 with 1 Axes>"
      ]
     },
     "metadata": {
      "needs_background": "light"
     },
     "output_type": "display_data"
    }
   ],
   "source": [
    "plt.figure(figsize=(15,5))\n",
    "plt.plot(range(1,12),wcss)\n",
    "plt.xlabel(\"number of k (cluster) value\")\n",
    "plt.ylabel(\"wcss\")\n",
    "plt.show()"
   ]
  },
  {
   "cell_type": "markdown",
   "id": "8d82932a",
   "metadata": {},
   "source": [
    "### Now let's apply the kmeans clustering algorithm on df_new which is basically the categorical column we converted into numerical"
   ]
  },
  {
   "cell_type": "code",
   "execution_count": 29,
   "id": "3cb88d2d",
   "metadata": {},
   "outputs": [
    {
     "name": "stdout",
     "output_type": "stream",
     "text": [
      "[2 0 0 ... 0 1 3]\n",
      "1603.0604440558916\n",
      "7\n",
      "[[0.85448916 0.9628483  0.13312693 0.90712074 0.61919505 0.86068111\n",
      "  0.10835913 0.93188854 0.89783282 0.20433437 0.10526316]\n",
      " [0.88793103 0.98103448 0.0862069  0.79482759 0.32931034 0.96034483\n",
      "  0.92241379 0.97586207 0.01724138 0.32068966 0.04310345]\n",
      " [0.02302632 0.89144737 0.07236842 0.92434211 0.66776316 0.96381579\n",
      "  0.93421053 0.15460526 0.01315789 0.07236842 0.38815789]\n",
      " [0.0203252  0.68292683 0.08536585 0.91463415 0.69512195 0.73170732\n",
      "  0.06504065 0.08943089 0.87804878 0.06097561 0.71544715]]\n"
     ]
    }
   ],
   "source": [
    "kmeans = KMeans(n_clusters=4, init='k-means++', random_state=0).fit(df_new)\n",
    "df['cluster_num'] = kmeans.labels_ \n",
    "print (kmeans.labels_) \n",
    "print (kmeans.inertia_) \n",
    "print(kmeans.n_iter_) \n",
    "print(kmeans.cluster_centers_)  "
   ]
  },
  {
   "cell_type": "markdown",
   "id": "c4c6f6ae",
   "metadata": {},
   "source": [
    "### Here we are just counting the values in each cluster"
   ]
  },
  {
   "cell_type": "code",
   "execution_count": 30,
   "id": "a6ec7984",
   "metadata": {},
   "outputs": [
    {
     "data": {
      "text/plain": [
       "Counter({2: 304, 0: 323, 1: 580, 3: 246})"
      ]
     },
     "execution_count": 30,
     "metadata": {},
     "output_type": "execute_result"
    }
   ],
   "source": [
    "from collections import Counter\n",
    "Counter(kmeans.labels_)"
   ]
  },
  {
   "cell_type": "markdown",
   "id": "65abe3cf",
   "metadata": {},
   "source": [
    "### Now's let's create a tabular structure to understand the relation between clusters and like"
   ]
  },
  {
   "cell_type": "code",
   "execution_count": 31,
   "id": "b7f56803",
   "metadata": {},
   "outputs": [
    {
     "data": {
      "text/html": [
       "<div>\n",
       "<style scoped>\n",
       "    .dataframe tbody tr th:only-of-type {\n",
       "        vertical-align: middle;\n",
       "    }\n",
       "\n",
       "    .dataframe tbody tr th {\n",
       "        vertical-align: top;\n",
       "    }\n",
       "\n",
       "    .dataframe thead th {\n",
       "        text-align: right;\n",
       "    }\n",
       "</style>\n",
       "<table border=\"1\" class=\"dataframe\">\n",
       "  <thead>\n",
       "    <tr style=\"text-align: right;\">\n",
       "      <th>Like</th>\n",
       "      <th>-5</th>\n",
       "      <th>-4</th>\n",
       "      <th>-3</th>\n",
       "      <th>-2</th>\n",
       "      <th>-1</th>\n",
       "      <th>0</th>\n",
       "      <th>+1</th>\n",
       "      <th>+2</th>\n",
       "      <th>+3</th>\n",
       "      <th>+4</th>\n",
       "      <th>+5</th>\n",
       "    </tr>\n",
       "    <tr>\n",
       "      <th>cluster_num</th>\n",
       "      <th></th>\n",
       "      <th></th>\n",
       "      <th></th>\n",
       "      <th></th>\n",
       "      <th></th>\n",
       "      <th></th>\n",
       "      <th></th>\n",
       "      <th></th>\n",
       "      <th></th>\n",
       "      <th></th>\n",
       "      <th></th>\n",
       "    </tr>\n",
       "  </thead>\n",
       "  <tbody>\n",
       "    <tr>\n",
       "      <th>0</th>\n",
       "      <td>5</td>\n",
       "      <td>3</td>\n",
       "      <td>7</td>\n",
       "      <td>6</td>\n",
       "      <td>7</td>\n",
       "      <td>36</td>\n",
       "      <td>42</td>\n",
       "      <td>60</td>\n",
       "      <td>66</td>\n",
       "      <td>47</td>\n",
       "      <td>44</td>\n",
       "    </tr>\n",
       "    <tr>\n",
       "      <th>1</th>\n",
       "      <td>4</td>\n",
       "      <td>4</td>\n",
       "      <td>2</td>\n",
       "      <td>6</td>\n",
       "      <td>13</td>\n",
       "      <td>43</td>\n",
       "      <td>65</td>\n",
       "      <td>90</td>\n",
       "      <td>143</td>\n",
       "      <td>111</td>\n",
       "      <td>99</td>\n",
       "    </tr>\n",
       "    <tr>\n",
       "      <th>2</th>\n",
       "      <td>54</td>\n",
       "      <td>36</td>\n",
       "      <td>34</td>\n",
       "      <td>28</td>\n",
       "      <td>25</td>\n",
       "      <td>51</td>\n",
       "      <td>31</td>\n",
       "      <td>31</td>\n",
       "      <td>12</td>\n",
       "      <td>2</td>\n",
       "      <td>0</td>\n",
       "    </tr>\n",
       "    <tr>\n",
       "      <th>3</th>\n",
       "      <td>89</td>\n",
       "      <td>28</td>\n",
       "      <td>30</td>\n",
       "      <td>19</td>\n",
       "      <td>13</td>\n",
       "      <td>39</td>\n",
       "      <td>14</td>\n",
       "      <td>6</td>\n",
       "      <td>8</td>\n",
       "      <td>0</td>\n",
       "      <td>0</td>\n",
       "    </tr>\n",
       "  </tbody>\n",
       "</table>\n",
       "</div>"
      ],
      "text/plain": [
       "Like         -5  -4  -3  -2  -1   0  +1  +2   +3   +4  +5\n",
       "cluster_num                                              \n",
       "0             5   3   7   6   7  36  42  60   66   47  44\n",
       "1             4   4   2   6  13  43  65  90  143  111  99\n",
       "2            54  36  34  28  25  51  31  31   12    2   0\n",
       "3            89  28  30  19  13  39  14   6    8    0   0"
      ]
     },
     "execution_count": 31,
     "metadata": {},
     "output_type": "execute_result"
    }
   ],
   "source": [
    "from statsmodels.graphics.mosaicplot import mosaic\n",
    "from itertools import product\n",
    "\n",
    "crosstab =pd.crosstab(df['cluster_num'],df['Like'])\n",
    "crosstab = crosstab[['-5','-4','-3','-2','-1','0','+1','+2','+3','+4','+5']]\n",
    "crosstab "
   ]
  },
  {
   "cell_type": "markdown",
   "id": "dfbcd73a",
   "metadata": {},
   "source": [
    "### Now's let's create a tabular structure to understand the relation between clusters and gender"
   ]
  },
  {
   "cell_type": "code",
   "execution_count": 32,
   "id": "8c655ba4",
   "metadata": {},
   "outputs": [
    {
     "data": {
      "text/html": [
       "<div>\n",
       "<style scoped>\n",
       "    .dataframe tbody tr th:only-of-type {\n",
       "        vertical-align: middle;\n",
       "    }\n",
       "\n",
       "    .dataframe tbody tr th {\n",
       "        vertical-align: top;\n",
       "    }\n",
       "\n",
       "    .dataframe thead th {\n",
       "        text-align: right;\n",
       "    }\n",
       "</style>\n",
       "<table border=\"1\" class=\"dataframe\">\n",
       "  <thead>\n",
       "    <tr style=\"text-align: right;\">\n",
       "      <th>Gender</th>\n",
       "      <th>Female</th>\n",
       "      <th>Male</th>\n",
       "    </tr>\n",
       "    <tr>\n",
       "      <th>cluster_num</th>\n",
       "      <th></th>\n",
       "      <th></th>\n",
       "    </tr>\n",
       "  </thead>\n",
       "  <tbody>\n",
       "    <tr>\n",
       "      <th>0</th>\n",
       "      <td>154</td>\n",
       "      <td>169</td>\n",
       "    </tr>\n",
       "    <tr>\n",
       "      <th>1</th>\n",
       "      <td>349</td>\n",
       "      <td>231</td>\n",
       "    </tr>\n",
       "    <tr>\n",
       "      <th>2</th>\n",
       "      <td>179</td>\n",
       "      <td>125</td>\n",
       "    </tr>\n",
       "    <tr>\n",
       "      <th>3</th>\n",
       "      <td>106</td>\n",
       "      <td>140</td>\n",
       "    </tr>\n",
       "  </tbody>\n",
       "</table>\n",
       "</div>"
      ],
      "text/plain": [
       "Gender       Female  Male\n",
       "cluster_num              \n",
       "0               154   169\n",
       "1               349   231\n",
       "2               179   125\n",
       "3               106   140"
      ]
     },
     "execution_count": 32,
     "metadata": {},
     "output_type": "execute_result"
    }
   ],
   "source": [
    "crosstab_gender =pd.crosstab(df['cluster_num'],df['Gender'])\n",
    "crosstab_gender"
   ]
  },
  {
   "cell_type": "markdown",
   "id": "64537b3f",
   "metadata": {},
   "source": [
    "### Now's let's create a tabular structure to understand the relation between clusters and visitFrequency"
   ]
  },
  {
   "cell_type": "code",
   "execution_count": 33,
   "id": "98c0be4b",
   "metadata": {},
   "outputs": [
    {
     "data": {
      "text/html": [
       "<div>\n",
       "<style scoped>\n",
       "    .dataframe tbody tr th:only-of-type {\n",
       "        vertical-align: middle;\n",
       "    }\n",
       "\n",
       "    .dataframe tbody tr th {\n",
       "        vertical-align: top;\n",
       "    }\n",
       "\n",
       "    .dataframe thead th {\n",
       "        text-align: right;\n",
       "    }\n",
       "</style>\n",
       "<table border=\"1\" class=\"dataframe\">\n",
       "  <thead>\n",
       "    <tr style=\"text-align: right;\">\n",
       "      <th></th>\n",
       "      <th>cluster_num</th>\n",
       "      <th>VisitFrequency</th>\n",
       "    </tr>\n",
       "  </thead>\n",
       "  <tbody>\n",
       "    <tr>\n",
       "      <th>0</th>\n",
       "      <td>0</td>\n",
       "      <td>2.547988</td>\n",
       "    </tr>\n",
       "    <tr>\n",
       "      <th>1</th>\n",
       "      <td>1</td>\n",
       "      <td>2.584483</td>\n",
       "    </tr>\n",
       "    <tr>\n",
       "      <th>2</th>\n",
       "      <td>2</td>\n",
       "      <td>2.822368</td>\n",
       "    </tr>\n",
       "    <tr>\n",
       "      <th>3</th>\n",
       "      <td>3</td>\n",
       "      <td>2.654472</td>\n",
       "    </tr>\n",
       "  </tbody>\n",
       "</table>\n",
       "</div>"
      ],
      "text/plain": [
       "   cluster_num  VisitFrequency\n",
       "0            0        2.547988\n",
       "1            1        2.584483\n",
       "2            2        2.822368\n",
       "3            3        2.654472"
      ]
     },
     "execution_count": 33,
     "metadata": {},
     "output_type": "execute_result"
    }
   ],
   "source": [
    "df['VisitFrequency'] = LabelEncoder().fit_transform(df['VisitFrequency'])\n",
    "visit = df.groupby('cluster_num')['VisitFrequency'].mean()\n",
    "visit = visit.to_frame().reset_index()\n",
    "visit"
   ]
  },
  {
   "cell_type": "markdown",
   "id": "5c1fd19c",
   "metadata": {},
   "source": [
    "### As we all noticed the frequency column gives us the mean according the cluster, so let's convert the like and gender columns to mean with respect to cluster"
   ]
  },
  {
   "cell_type": "code",
   "execution_count": 34,
   "id": "ad7018f7",
   "metadata": {},
   "outputs": [
    {
     "data": {
      "text/html": [
       "<div>\n",
       "<style scoped>\n",
       "    .dataframe tbody tr th:only-of-type {\n",
       "        vertical-align: middle;\n",
       "    }\n",
       "\n",
       "    .dataframe tbody tr th {\n",
       "        vertical-align: top;\n",
       "    }\n",
       "\n",
       "    .dataframe thead th {\n",
       "        text-align: right;\n",
       "    }\n",
       "</style>\n",
       "<table border=\"1\" class=\"dataframe\">\n",
       "  <thead>\n",
       "    <tr style=\"text-align: right;\">\n",
       "      <th></th>\n",
       "      <th>cluster_num</th>\n",
       "      <th>Like</th>\n",
       "    </tr>\n",
       "  </thead>\n",
       "  <tbody>\n",
       "    <tr>\n",
       "      <th>0</th>\n",
       "      <td>0</td>\n",
       "      <td>3.275542</td>\n",
       "    </tr>\n",
       "    <tr>\n",
       "      <th>1</th>\n",
       "      <td>1</td>\n",
       "      <td>2.962069</td>\n",
       "    </tr>\n",
       "    <tr>\n",
       "      <th>2</th>\n",
       "      <td>2</td>\n",
       "      <td>6.171053</td>\n",
       "    </tr>\n",
       "    <tr>\n",
       "      <th>3</th>\n",
       "      <td>3</td>\n",
       "      <td>7.422764</td>\n",
       "    </tr>\n",
       "  </tbody>\n",
       "</table>\n",
       "</div>"
      ],
      "text/plain": [
       "   cluster_num      Like\n",
       "0            0  3.275542\n",
       "1            1  2.962069\n",
       "2            2  6.171053\n",
       "3            3  7.422764"
      ]
     },
     "execution_count": 34,
     "metadata": {},
     "output_type": "execute_result"
    }
   ],
   "source": [
    "df['Like'] = LabelEncoder().fit_transform(df['Like'])\n",
    "Like = df.groupby('cluster_num')['Like'].mean()\n",
    "Like = Like.to_frame().reset_index()\n",
    "Like"
   ]
  },
  {
   "cell_type": "code",
   "execution_count": 35,
   "id": "d7fabde7",
   "metadata": {},
   "outputs": [
    {
     "data": {
      "text/html": [
       "<div>\n",
       "<style scoped>\n",
       "    .dataframe tbody tr th:only-of-type {\n",
       "        vertical-align: middle;\n",
       "    }\n",
       "\n",
       "    .dataframe tbody tr th {\n",
       "        vertical-align: top;\n",
       "    }\n",
       "\n",
       "    .dataframe thead th {\n",
       "        text-align: right;\n",
       "    }\n",
       "</style>\n",
       "<table border=\"1\" class=\"dataframe\">\n",
       "  <thead>\n",
       "    <tr style=\"text-align: right;\">\n",
       "      <th></th>\n",
       "      <th>cluster_num</th>\n",
       "      <th>Gender</th>\n",
       "    </tr>\n",
       "  </thead>\n",
       "  <tbody>\n",
       "    <tr>\n",
       "      <th>0</th>\n",
       "      <td>0</td>\n",
       "      <td>0.523220</td>\n",
       "    </tr>\n",
       "    <tr>\n",
       "      <th>1</th>\n",
       "      <td>1</td>\n",
       "      <td>0.398276</td>\n",
       "    </tr>\n",
       "    <tr>\n",
       "      <th>2</th>\n",
       "      <td>2</td>\n",
       "      <td>0.411184</td>\n",
       "    </tr>\n",
       "    <tr>\n",
       "      <th>3</th>\n",
       "      <td>3</td>\n",
       "      <td>0.569106</td>\n",
       "    </tr>\n",
       "  </tbody>\n",
       "</table>\n",
       "</div>"
      ],
      "text/plain": [
       "   cluster_num    Gender\n",
       "0            0  0.523220\n",
       "1            1  0.398276\n",
       "2            2  0.411184\n",
       "3            3  0.569106"
      ]
     },
     "execution_count": 35,
     "metadata": {},
     "output_type": "execute_result"
    }
   ],
   "source": [
    "df['Gender'] = LabelEncoder().fit_transform(df['Gender'])\n",
    "Gender = df.groupby('cluster_num')['Gender'].mean()\n",
    "Gender = Gender.to_frame().reset_index()\n",
    "Gender"
   ]
  },
  {
   "cell_type": "markdown",
   "id": "79612c0e",
   "metadata": {},
   "source": [
    "### Let's now merge all three columns for visualizing the segment"
   ]
  },
  {
   "cell_type": "code",
   "execution_count": 36,
   "id": "946aefa5",
   "metadata": {},
   "outputs": [
    {
     "data": {
      "text/html": [
       "<div>\n",
       "<style scoped>\n",
       "    .dataframe tbody tr th:only-of-type {\n",
       "        vertical-align: middle;\n",
       "    }\n",
       "\n",
       "    .dataframe tbody tr th {\n",
       "        vertical-align: top;\n",
       "    }\n",
       "\n",
       "    .dataframe thead th {\n",
       "        text-align: right;\n",
       "    }\n",
       "</style>\n",
       "<table border=\"1\" class=\"dataframe\">\n",
       "  <thead>\n",
       "    <tr style=\"text-align: right;\">\n",
       "      <th></th>\n",
       "      <th>cluster_num</th>\n",
       "      <th>Gender</th>\n",
       "      <th>Like</th>\n",
       "      <th>VisitFrequency</th>\n",
       "    </tr>\n",
       "  </thead>\n",
       "  <tbody>\n",
       "    <tr>\n",
       "      <th>0</th>\n",
       "      <td>0</td>\n",
       "      <td>0.523220</td>\n",
       "      <td>3.275542</td>\n",
       "      <td>2.547988</td>\n",
       "    </tr>\n",
       "    <tr>\n",
       "      <th>1</th>\n",
       "      <td>1</td>\n",
       "      <td>0.398276</td>\n",
       "      <td>2.962069</td>\n",
       "      <td>2.584483</td>\n",
       "    </tr>\n",
       "    <tr>\n",
       "      <th>2</th>\n",
       "      <td>2</td>\n",
       "      <td>0.411184</td>\n",
       "      <td>6.171053</td>\n",
       "      <td>2.822368</td>\n",
       "    </tr>\n",
       "    <tr>\n",
       "      <th>3</th>\n",
       "      <td>3</td>\n",
       "      <td>0.569106</td>\n",
       "      <td>7.422764</td>\n",
       "      <td>2.654472</td>\n",
       "    </tr>\n",
       "  </tbody>\n",
       "</table>\n",
       "</div>"
      ],
      "text/plain": [
       "   cluster_num    Gender      Like  VisitFrequency\n",
       "0            0  0.523220  3.275542        2.547988\n",
       "1            1  0.398276  2.962069        2.584483\n",
       "2            2  0.411184  6.171053        2.822368\n",
       "3            3  0.569106  7.422764        2.654472"
      ]
     },
     "execution_count": 36,
     "metadata": {},
     "output_type": "execute_result"
    }
   ],
   "source": [
    "segment = Gender.merge(Like, on='cluster_num', how='left').merge(visit, on='cluster_num', how='left')\n",
    "segment"
   ]
  },
  {
   "cell_type": "markdown",
   "id": "696d50d5",
   "metadata": {},
   "source": [
    "### We can get an overview from below scatterplot that when the visit frequency is highest the like is around 6"
   ]
  },
  {
   "cell_type": "code",
   "execution_count": 41,
   "id": "21fa812d",
   "metadata": {},
   "outputs": [
    {
     "data": {
      "image/png": "[encoded data removed]",
      "text/plain": [
       "<Figure size 648x288 with 1 Axes>"
      ]
     },
     "metadata": {
      "needs_background": "light"
     },
     "output_type": "display_data"
    }
   ],
   "source": [
    "plt.figure(figsize = (9,4))\n",
    "sns.scatterplot(x = \"VisitFrequency\", y = \"Like\",data=segment,s=400, color=\"b\")\n",
    "plt.title(\"Segment evaluation\",\n",
    "          fontsize = 15) \n",
    "plt.xlabel(\"Visit\", fontsize = 12) \n",
    "plt.ylabel(\"Like\", fontsize = 12) \n",
    "plt.show()"
   ]
  }
 ],
 "metadata": {
  "kernelspec": {
   "display_name": "Python 3 (ipykernel)",
   "language": "python",
   "name": "python3"
  },
  "language_info": {
   "codemirror_mode": {
    "name": "ipython",
    "version": 3
   },
   "file_extension": ".py",
   "mimetype": "text/x-python",
   "name": "python",
   "nbconvert_exporter": "python",
   "pygments_lexer": "ipython3",
   "version": "3.9.7"
  }
 },
 "nbformat": 4,
 "nbformat_minor": 5
}
